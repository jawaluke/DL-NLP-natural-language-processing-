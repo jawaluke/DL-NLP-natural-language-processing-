{
  "nbformat": 4,
  "nbformat_minor": 0,
  "metadata": {
    "colab": {
      "name": "imdb reviews classification using tensorflow",
      "provenance": [],
      "collapsed_sections": []
    },
    "kernelspec": {
      "name": "python3",
      "display_name": "Python 3"
    },
    "accelerator": "GPU",
    "widgets": {
      "application/vnd.jupyter.widget-state+json": {
        "1e25756096a94f8ba375ff420eed23c9": {
          "model_module": "@jupyter-widgets/controls",
          "model_name": "HBoxModel",
          "state": {
            "_view_name": "HBoxView",
            "_dom_classes": [],
            "_model_name": "HBoxModel",
            "_view_module": "@jupyter-widgets/controls",
            "_model_module_version": "1.5.0",
            "_view_count": null,
            "_view_module_version": "1.5.0",
            "box_style": "",
            "layout": "IPY_MODEL_087e8fdc5a4f433a92e764abc9a00e93",
            "_model_module": "@jupyter-widgets/controls",
            "children": [
              "IPY_MODEL_64620591c7484e81ac35ed5504d9a716",
              "IPY_MODEL_38b6727def84445e8613a725f4463780"
            ]
          }
        },
        "087e8fdc5a4f433a92e764abc9a00e93": {
          "model_module": "@jupyter-widgets/base",
          "model_name": "LayoutModel",
          "state": {
            "_view_name": "LayoutView",
            "grid_template_rows": null,
            "right": null,
            "justify_content": null,
            "_view_module": "@jupyter-widgets/base",
            "overflow": null,
            "_model_module_version": "1.2.0",
            "_view_count": null,
            "flex_flow": null,
            "width": null,
            "min_width": null,
            "border": null,
            "align_items": null,
            "bottom": null,
            "_model_module": "@jupyter-widgets/base",
            "top": null,
            "grid_column": null,
            "overflow_y": null,
            "overflow_x": null,
            "grid_auto_flow": null,
            "grid_area": null,
            "grid_template_columns": null,
            "flex": null,
            "_model_name": "LayoutModel",
            "justify_items": null,
            "grid_row": null,
            "max_height": null,
            "align_content": null,
            "visibility": null,
            "align_self": null,
            "height": null,
            "min_height": null,
            "padding": null,
            "grid_auto_rows": null,
            "grid_gap": null,
            "max_width": null,
            "order": null,
            "_view_module_version": "1.2.0",
            "grid_template_areas": null,
            "object_position": null,
            "object_fit": null,
            "grid_auto_columns": null,
            "margin": null,
            "display": null,
            "left": null
          }
        },
        "64620591c7484e81ac35ed5504d9a716": {
          "model_module": "@jupyter-widgets/controls",
          "model_name": "FloatProgressModel",
          "state": {
            "_view_name": "ProgressView",
            "style": "IPY_MODEL_834eaecabf5b4c14b94111e37287dbaf",
            "_dom_classes": [],
            "description": "Dl Completed...: 100%",
            "_model_name": "FloatProgressModel",
            "bar_style": "success",
            "max": 1,
            "_view_module": "@jupyter-widgets/controls",
            "_model_module_version": "1.5.0",
            "value": 1,
            "_view_count": null,
            "_view_module_version": "1.5.0",
            "orientation": "horizontal",
            "min": 0,
            "description_tooltip": null,
            "_model_module": "@jupyter-widgets/controls",
            "layout": "IPY_MODEL_22b2892d2817414ea1e7e3c84f0fc668"
          }
        },
        "38b6727def84445e8613a725f4463780": {
          "model_module": "@jupyter-widgets/controls",
          "model_name": "HTMLModel",
          "state": {
            "_view_name": "HTMLView",
            "style": "IPY_MODEL_0c307ee3f19c46aeab4630624acc1ff8",
            "_dom_classes": [],
            "description": "",
            "_model_name": "HTMLModel",
            "placeholder": "​",
            "_view_module": "@jupyter-widgets/controls",
            "_model_module_version": "1.5.0",
            "value": " 1/1 [00:04&lt;00:00,  4.33s/ url]",
            "_view_count": null,
            "_view_module_version": "1.5.0",
            "description_tooltip": null,
            "_model_module": "@jupyter-widgets/controls",
            "layout": "IPY_MODEL_0a8f376a0fd847e390d33f34598f4ce7"
          }
        },
        "834eaecabf5b4c14b94111e37287dbaf": {
          "model_module": "@jupyter-widgets/controls",
          "model_name": "ProgressStyleModel",
          "state": {
            "_view_name": "StyleView",
            "_model_name": "ProgressStyleModel",
            "description_width": "initial",
            "_view_module": "@jupyter-widgets/base",
            "_model_module_version": "1.5.0",
            "_view_count": null,
            "_view_module_version": "1.2.0",
            "bar_color": null,
            "_model_module": "@jupyter-widgets/controls"
          }
        },
        "22b2892d2817414ea1e7e3c84f0fc668": {
          "model_module": "@jupyter-widgets/base",
          "model_name": "LayoutModel",
          "state": {
            "_view_name": "LayoutView",
            "grid_template_rows": null,
            "right": null,
            "justify_content": null,
            "_view_module": "@jupyter-widgets/base",
            "overflow": null,
            "_model_module_version": "1.2.0",
            "_view_count": null,
            "flex_flow": null,
            "width": null,
            "min_width": null,
            "border": null,
            "align_items": null,
            "bottom": null,
            "_model_module": "@jupyter-widgets/base",
            "top": null,
            "grid_column": null,
            "overflow_y": null,
            "overflow_x": null,
            "grid_auto_flow": null,
            "grid_area": null,
            "grid_template_columns": null,
            "flex": null,
            "_model_name": "LayoutModel",
            "justify_items": null,
            "grid_row": null,
            "max_height": null,
            "align_content": null,
            "visibility": null,
            "align_self": null,
            "height": null,
            "min_height": null,
            "padding": null,
            "grid_auto_rows": null,
            "grid_gap": null,
            "max_width": null,
            "order": null,
            "_view_module_version": "1.2.0",
            "grid_template_areas": null,
            "object_position": null,
            "object_fit": null,
            "grid_auto_columns": null,
            "margin": null,
            "display": null,
            "left": null
          }
        },
        "0c307ee3f19c46aeab4630624acc1ff8": {
          "model_module": "@jupyter-widgets/controls",
          "model_name": "DescriptionStyleModel",
          "state": {
            "_view_name": "StyleView",
            "_model_name": "DescriptionStyleModel",
            "description_width": "",
            "_view_module": "@jupyter-widgets/base",
            "_model_module_version": "1.5.0",
            "_view_count": null,
            "_view_module_version": "1.2.0",
            "_model_module": "@jupyter-widgets/controls"
          }
        },
        "0a8f376a0fd847e390d33f34598f4ce7": {
          "model_module": "@jupyter-widgets/base",
          "model_name": "LayoutModel",
          "state": {
            "_view_name": "LayoutView",
            "grid_template_rows": null,
            "right": null,
            "justify_content": null,
            "_view_module": "@jupyter-widgets/base",
            "overflow": null,
            "_model_module_version": "1.2.0",
            "_view_count": null,
            "flex_flow": null,
            "width": null,
            "min_width": null,
            "border": null,
            "align_items": null,
            "bottom": null,
            "_model_module": "@jupyter-widgets/base",
            "top": null,
            "grid_column": null,
            "overflow_y": null,
            "overflow_x": null,
            "grid_auto_flow": null,
            "grid_area": null,
            "grid_template_columns": null,
            "flex": null,
            "_model_name": "LayoutModel",
            "justify_items": null,
            "grid_row": null,
            "max_height": null,
            "align_content": null,
            "visibility": null,
            "align_self": null,
            "height": null,
            "min_height": null,
            "padding": null,
            "grid_auto_rows": null,
            "grid_gap": null,
            "max_width": null,
            "order": null,
            "_view_module_version": "1.2.0",
            "grid_template_areas": null,
            "object_position": null,
            "object_fit": null,
            "grid_auto_columns": null,
            "margin": null,
            "display": null,
            "left": null
          }
        },
        "59ee1542d40141da9d08c158f81aefec": {
          "model_module": "@jupyter-widgets/controls",
          "model_name": "HBoxModel",
          "state": {
            "_view_name": "HBoxView",
            "_dom_classes": [],
            "_model_name": "HBoxModel",
            "_view_module": "@jupyter-widgets/controls",
            "_model_module_version": "1.5.0",
            "_view_count": null,
            "_view_module_version": "1.5.0",
            "box_style": "",
            "layout": "IPY_MODEL_cbc5cade055c4636ae8326bf5cfae87b",
            "_model_module": "@jupyter-widgets/controls",
            "children": [
              "IPY_MODEL_9017830b8cc0441f8a31863e75b93072",
              "IPY_MODEL_1660b8bccff742a284e16c69fb2d19a1"
            ]
          }
        },
        "cbc5cade055c4636ae8326bf5cfae87b": {
          "model_module": "@jupyter-widgets/base",
          "model_name": "LayoutModel",
          "state": {
            "_view_name": "LayoutView",
            "grid_template_rows": null,
            "right": null,
            "justify_content": null,
            "_view_module": "@jupyter-widgets/base",
            "overflow": null,
            "_model_module_version": "1.2.0",
            "_view_count": null,
            "flex_flow": null,
            "width": null,
            "min_width": null,
            "border": null,
            "align_items": null,
            "bottom": null,
            "_model_module": "@jupyter-widgets/base",
            "top": null,
            "grid_column": null,
            "overflow_y": null,
            "overflow_x": null,
            "grid_auto_flow": null,
            "grid_area": null,
            "grid_template_columns": null,
            "flex": null,
            "_model_name": "LayoutModel",
            "justify_items": null,
            "grid_row": null,
            "max_height": null,
            "align_content": null,
            "visibility": null,
            "align_self": null,
            "height": null,
            "min_height": null,
            "padding": null,
            "grid_auto_rows": null,
            "grid_gap": null,
            "max_width": null,
            "order": null,
            "_view_module_version": "1.2.0",
            "grid_template_areas": null,
            "object_position": null,
            "object_fit": null,
            "grid_auto_columns": null,
            "margin": null,
            "display": null,
            "left": null
          }
        },
        "9017830b8cc0441f8a31863e75b93072": {
          "model_module": "@jupyter-widgets/controls",
          "model_name": "FloatProgressModel",
          "state": {
            "_view_name": "ProgressView",
            "style": "IPY_MODEL_e50e0ab4afbf4f2c94eab4581ea83d96",
            "_dom_classes": [],
            "description": "Dl Size...: 100%",
            "_model_name": "FloatProgressModel",
            "bar_style": "success",
            "max": 1,
            "_view_module": "@jupyter-widgets/controls",
            "_model_module_version": "1.5.0",
            "value": 1,
            "_view_count": null,
            "_view_module_version": "1.5.0",
            "orientation": "horizontal",
            "min": 0,
            "description_tooltip": null,
            "_model_module": "@jupyter-widgets/controls",
            "layout": "IPY_MODEL_45ad50dc6f5a4fa39b8be6a0a6955fcb"
          }
        },
        "1660b8bccff742a284e16c69fb2d19a1": {
          "model_module": "@jupyter-widgets/controls",
          "model_name": "HTMLModel",
          "state": {
            "_view_name": "HTMLView",
            "style": "IPY_MODEL_425e29a1fc0c4a0c954b4b70f9d18d1a",
            "_dom_classes": [],
            "description": "",
            "_model_name": "HTMLModel",
            "placeholder": "​",
            "_view_module": "@jupyter-widgets/controls",
            "_model_module_version": "1.5.0",
            "value": " 80/80 [00:04&lt;00:00, 18.62 MiB/s]",
            "_view_count": null,
            "_view_module_version": "1.5.0",
            "description_tooltip": null,
            "_model_module": "@jupyter-widgets/controls",
            "layout": "IPY_MODEL_e3d910ceaacd43438808ce8fd8c8bca2"
          }
        },
        "e50e0ab4afbf4f2c94eab4581ea83d96": {
          "model_module": "@jupyter-widgets/controls",
          "model_name": "ProgressStyleModel",
          "state": {
            "_view_name": "StyleView",
            "_model_name": "ProgressStyleModel",
            "description_width": "initial",
            "_view_module": "@jupyter-widgets/base",
            "_model_module_version": "1.5.0",
            "_view_count": null,
            "_view_module_version": "1.2.0",
            "bar_color": null,
            "_model_module": "@jupyter-widgets/controls"
          }
        },
        "45ad50dc6f5a4fa39b8be6a0a6955fcb": {
          "model_module": "@jupyter-widgets/base",
          "model_name": "LayoutModel",
          "state": {
            "_view_name": "LayoutView",
            "grid_template_rows": null,
            "right": null,
            "justify_content": null,
            "_view_module": "@jupyter-widgets/base",
            "overflow": null,
            "_model_module_version": "1.2.0",
            "_view_count": null,
            "flex_flow": null,
            "width": null,
            "min_width": null,
            "border": null,
            "align_items": null,
            "bottom": null,
            "_model_module": "@jupyter-widgets/base",
            "top": null,
            "grid_column": null,
            "overflow_y": null,
            "overflow_x": null,
            "grid_auto_flow": null,
            "grid_area": null,
            "grid_template_columns": null,
            "flex": null,
            "_model_name": "LayoutModel",
            "justify_items": null,
            "grid_row": null,
            "max_height": null,
            "align_content": null,
            "visibility": null,
            "align_self": null,
            "height": null,
            "min_height": null,
            "padding": null,
            "grid_auto_rows": null,
            "grid_gap": null,
            "max_width": null,
            "order": null,
            "_view_module_version": "1.2.0",
            "grid_template_areas": null,
            "object_position": null,
            "object_fit": null,
            "grid_auto_columns": null,
            "margin": null,
            "display": null,
            "left": null
          }
        },
        "425e29a1fc0c4a0c954b4b70f9d18d1a": {
          "model_module": "@jupyter-widgets/controls",
          "model_name": "DescriptionStyleModel",
          "state": {
            "_view_name": "StyleView",
            "_model_name": "DescriptionStyleModel",
            "description_width": "",
            "_view_module": "@jupyter-widgets/base",
            "_model_module_version": "1.5.0",
            "_view_count": null,
            "_view_module_version": "1.2.0",
            "_model_module": "@jupyter-widgets/controls"
          }
        },
        "e3d910ceaacd43438808ce8fd8c8bca2": {
          "model_module": "@jupyter-widgets/base",
          "model_name": "LayoutModel",
          "state": {
            "_view_name": "LayoutView",
            "grid_template_rows": null,
            "right": null,
            "justify_content": null,
            "_view_module": "@jupyter-widgets/base",
            "overflow": null,
            "_model_module_version": "1.2.0",
            "_view_count": null,
            "flex_flow": null,
            "width": null,
            "min_width": null,
            "border": null,
            "align_items": null,
            "bottom": null,
            "_model_module": "@jupyter-widgets/base",
            "top": null,
            "grid_column": null,
            "overflow_y": null,
            "overflow_x": null,
            "grid_auto_flow": null,
            "grid_area": null,
            "grid_template_columns": null,
            "flex": null,
            "_model_name": "LayoutModel",
            "justify_items": null,
            "grid_row": null,
            "max_height": null,
            "align_content": null,
            "visibility": null,
            "align_self": null,
            "height": null,
            "min_height": null,
            "padding": null,
            "grid_auto_rows": null,
            "grid_gap": null,
            "max_width": null,
            "order": null,
            "_view_module_version": "1.2.0",
            "grid_template_areas": null,
            "object_position": null,
            "object_fit": null,
            "grid_auto_columns": null,
            "margin": null,
            "display": null,
            "left": null
          }
        },
        "368ee3ad386a4089829f14a7fc8936a8": {
          "model_module": "@jupyter-widgets/controls",
          "model_name": "HBoxModel",
          "state": {
            "_view_name": "HBoxView",
            "_dom_classes": [],
            "_model_name": "HBoxModel",
            "_view_module": "@jupyter-widgets/controls",
            "_model_module_version": "1.5.0",
            "_view_count": null,
            "_view_module_version": "1.5.0",
            "box_style": "",
            "layout": "IPY_MODEL_08a7888040d64950bb1635808e5d149c",
            "_model_module": "@jupyter-widgets/controls",
            "children": [
              "IPY_MODEL_67f22550a8514a4ea9e7079a719205e4",
              "IPY_MODEL_b8f1e65b0fea46b49eec9e80de5b6bd2"
            ]
          }
        },
        "08a7888040d64950bb1635808e5d149c": {
          "model_module": "@jupyter-widgets/base",
          "model_name": "LayoutModel",
          "state": {
            "_view_name": "LayoutView",
            "grid_template_rows": null,
            "right": null,
            "justify_content": null,
            "_view_module": "@jupyter-widgets/base",
            "overflow": null,
            "_model_module_version": "1.2.0",
            "_view_count": null,
            "flex_flow": null,
            "width": null,
            "min_width": null,
            "border": null,
            "align_items": null,
            "bottom": null,
            "_model_module": "@jupyter-widgets/base",
            "top": null,
            "grid_column": null,
            "overflow_y": null,
            "overflow_x": null,
            "grid_auto_flow": null,
            "grid_area": null,
            "grid_template_columns": null,
            "flex": null,
            "_model_name": "LayoutModel",
            "justify_items": null,
            "grid_row": null,
            "max_height": null,
            "align_content": null,
            "visibility": null,
            "align_self": null,
            "height": null,
            "min_height": null,
            "padding": null,
            "grid_auto_rows": null,
            "grid_gap": null,
            "max_width": null,
            "order": null,
            "_view_module_version": "1.2.0",
            "grid_template_areas": null,
            "object_position": null,
            "object_fit": null,
            "grid_auto_columns": null,
            "margin": null,
            "display": null,
            "left": null
          }
        },
        "67f22550a8514a4ea9e7079a719205e4": {
          "model_module": "@jupyter-widgets/controls",
          "model_name": "FloatProgressModel",
          "state": {
            "_view_name": "ProgressView",
            "style": "IPY_MODEL_f02b247cce814329a838a8d8aa3af478",
            "_dom_classes": [],
            "description": "",
            "_model_name": "FloatProgressModel",
            "bar_style": "info",
            "max": 1,
            "_view_module": "@jupyter-widgets/controls",
            "_model_module_version": "1.5.0",
            "value": 1,
            "_view_count": null,
            "_view_module_version": "1.5.0",
            "orientation": "horizontal",
            "min": 0,
            "description_tooltip": null,
            "_model_module": "@jupyter-widgets/controls",
            "layout": "IPY_MODEL_3d9c405e725e4e55a1112af1260cb0cc"
          }
        },
        "b8f1e65b0fea46b49eec9e80de5b6bd2": {
          "model_module": "@jupyter-widgets/controls",
          "model_name": "HTMLModel",
          "state": {
            "_view_name": "HTMLView",
            "style": "IPY_MODEL_6e1fe1656343417ab36b0160b79409f6",
            "_dom_classes": [],
            "description": "",
            "_model_name": "HTMLModel",
            "placeholder": "​",
            "_view_module": "@jupyter-widgets/controls",
            "_model_module_version": "1.5.0",
            "value": " 25000/0 [00:17&lt;00:00, 2363.51 examples/s]",
            "_view_count": null,
            "_view_module_version": "1.5.0",
            "description_tooltip": null,
            "_model_module": "@jupyter-widgets/controls",
            "layout": "IPY_MODEL_5f848105440a451ba741012aeec50959"
          }
        },
        "f02b247cce814329a838a8d8aa3af478": {
          "model_module": "@jupyter-widgets/controls",
          "model_name": "ProgressStyleModel",
          "state": {
            "_view_name": "StyleView",
            "_model_name": "ProgressStyleModel",
            "description_width": "initial",
            "_view_module": "@jupyter-widgets/base",
            "_model_module_version": "1.5.0",
            "_view_count": null,
            "_view_module_version": "1.2.0",
            "bar_color": null,
            "_model_module": "@jupyter-widgets/controls"
          }
        },
        "3d9c405e725e4e55a1112af1260cb0cc": {
          "model_module": "@jupyter-widgets/base",
          "model_name": "LayoutModel",
          "state": {
            "_view_name": "LayoutView",
            "grid_template_rows": null,
            "right": null,
            "justify_content": null,
            "_view_module": "@jupyter-widgets/base",
            "overflow": null,
            "_model_module_version": "1.2.0",
            "_view_count": null,
            "flex_flow": null,
            "width": null,
            "min_width": null,
            "border": null,
            "align_items": null,
            "bottom": null,
            "_model_module": "@jupyter-widgets/base",
            "top": null,
            "grid_column": null,
            "overflow_y": null,
            "overflow_x": null,
            "grid_auto_flow": null,
            "grid_area": null,
            "grid_template_columns": null,
            "flex": null,
            "_model_name": "LayoutModel",
            "justify_items": null,
            "grid_row": null,
            "max_height": null,
            "align_content": null,
            "visibility": null,
            "align_self": null,
            "height": null,
            "min_height": null,
            "padding": null,
            "grid_auto_rows": null,
            "grid_gap": null,
            "max_width": null,
            "order": null,
            "_view_module_version": "1.2.0",
            "grid_template_areas": null,
            "object_position": null,
            "object_fit": null,
            "grid_auto_columns": null,
            "margin": null,
            "display": null,
            "left": null
          }
        },
        "6e1fe1656343417ab36b0160b79409f6": {
          "model_module": "@jupyter-widgets/controls",
          "model_name": "DescriptionStyleModel",
          "state": {
            "_view_name": "StyleView",
            "_model_name": "DescriptionStyleModel",
            "description_width": "",
            "_view_module": "@jupyter-widgets/base",
            "_model_module_version": "1.5.0",
            "_view_count": null,
            "_view_module_version": "1.2.0",
            "_model_module": "@jupyter-widgets/controls"
          }
        },
        "5f848105440a451ba741012aeec50959": {
          "model_module": "@jupyter-widgets/base",
          "model_name": "LayoutModel",
          "state": {
            "_view_name": "LayoutView",
            "grid_template_rows": null,
            "right": null,
            "justify_content": null,
            "_view_module": "@jupyter-widgets/base",
            "overflow": null,
            "_model_module_version": "1.2.0",
            "_view_count": null,
            "flex_flow": null,
            "width": null,
            "min_width": null,
            "border": null,
            "align_items": null,
            "bottom": null,
            "_model_module": "@jupyter-widgets/base",
            "top": null,
            "grid_column": null,
            "overflow_y": null,
            "overflow_x": null,
            "grid_auto_flow": null,
            "grid_area": null,
            "grid_template_columns": null,
            "flex": null,
            "_model_name": "LayoutModel",
            "justify_items": null,
            "grid_row": null,
            "max_height": null,
            "align_content": null,
            "visibility": null,
            "align_self": null,
            "height": null,
            "min_height": null,
            "padding": null,
            "grid_auto_rows": null,
            "grid_gap": null,
            "max_width": null,
            "order": null,
            "_view_module_version": "1.2.0",
            "grid_template_areas": null,
            "object_position": null,
            "object_fit": null,
            "grid_auto_columns": null,
            "margin": null,
            "display": null,
            "left": null
          }
        },
        "63582760076843318b0bff39bc107582": {
          "model_module": "@jupyter-widgets/controls",
          "model_name": "HBoxModel",
          "state": {
            "_view_name": "HBoxView",
            "_dom_classes": [],
            "_model_name": "HBoxModel",
            "_view_module": "@jupyter-widgets/controls",
            "_model_module_version": "1.5.0",
            "_view_count": null,
            "_view_module_version": "1.5.0",
            "box_style": "",
            "layout": "IPY_MODEL_ea1eb1e11f8c49dd9efd9a9bc2679d6f",
            "_model_module": "@jupyter-widgets/controls",
            "children": [
              "IPY_MODEL_a11d0ede70b3444ea19bed6ed671f365",
              "IPY_MODEL_4fb5447c553f49a88b89d7371fcafd12"
            ]
          }
        },
        "ea1eb1e11f8c49dd9efd9a9bc2679d6f": {
          "model_module": "@jupyter-widgets/base",
          "model_name": "LayoutModel",
          "state": {
            "_view_name": "LayoutView",
            "grid_template_rows": null,
            "right": null,
            "justify_content": null,
            "_view_module": "@jupyter-widgets/base",
            "overflow": null,
            "_model_module_version": "1.2.0",
            "_view_count": null,
            "flex_flow": null,
            "width": null,
            "min_width": null,
            "border": null,
            "align_items": null,
            "bottom": null,
            "_model_module": "@jupyter-widgets/base",
            "top": null,
            "grid_column": null,
            "overflow_y": null,
            "overflow_x": null,
            "grid_auto_flow": null,
            "grid_area": null,
            "grid_template_columns": null,
            "flex": null,
            "_model_name": "LayoutModel",
            "justify_items": null,
            "grid_row": null,
            "max_height": null,
            "align_content": null,
            "visibility": null,
            "align_self": null,
            "height": null,
            "min_height": null,
            "padding": null,
            "grid_auto_rows": null,
            "grid_gap": null,
            "max_width": null,
            "order": null,
            "_view_module_version": "1.2.0",
            "grid_template_areas": null,
            "object_position": null,
            "object_fit": null,
            "grid_auto_columns": null,
            "margin": null,
            "display": null,
            "left": null
          }
        },
        "a11d0ede70b3444ea19bed6ed671f365": {
          "model_module": "@jupyter-widgets/controls",
          "model_name": "FloatProgressModel",
          "state": {
            "_view_name": "ProgressView",
            "style": "IPY_MODEL_63370aab50114526a105978b7c5ffff1",
            "_dom_classes": [],
            "description": " 31%",
            "_model_name": "FloatProgressModel",
            "bar_style": "danger",
            "max": 25000,
            "_view_module": "@jupyter-widgets/controls",
            "_model_module_version": "1.5.0",
            "value": 7851,
            "_view_count": null,
            "_view_module_version": "1.5.0",
            "orientation": "horizontal",
            "min": 0,
            "description_tooltip": null,
            "_model_module": "@jupyter-widgets/controls",
            "layout": "IPY_MODEL_2294ac7db8f8466fbbf454fcb1cf41dd"
          }
        },
        "4fb5447c553f49a88b89d7371fcafd12": {
          "model_module": "@jupyter-widgets/controls",
          "model_name": "HTMLModel",
          "state": {
            "_view_name": "HTMLView",
            "style": "IPY_MODEL_2f13d33f8ee1441db7d1c485f4fde74c",
            "_dom_classes": [],
            "description": "",
            "_model_name": "HTMLModel",
            "placeholder": "​",
            "_view_module": "@jupyter-widgets/controls",
            "_model_module_version": "1.5.0",
            "value": " 7851/25000 [00:00&lt;00:00, 78507.45 examples/s]",
            "_view_count": null,
            "_view_module_version": "1.5.0",
            "description_tooltip": null,
            "_model_module": "@jupyter-widgets/controls",
            "layout": "IPY_MODEL_347a37d580274271ac7e694a2d70f6f6"
          }
        },
        "63370aab50114526a105978b7c5ffff1": {
          "model_module": "@jupyter-widgets/controls",
          "model_name": "ProgressStyleModel",
          "state": {
            "_view_name": "StyleView",
            "_model_name": "ProgressStyleModel",
            "description_width": "initial",
            "_view_module": "@jupyter-widgets/base",
            "_model_module_version": "1.5.0",
            "_view_count": null,
            "_view_module_version": "1.2.0",
            "bar_color": null,
            "_model_module": "@jupyter-widgets/controls"
          }
        },
        "2294ac7db8f8466fbbf454fcb1cf41dd": {
          "model_module": "@jupyter-widgets/base",
          "model_name": "LayoutModel",
          "state": {
            "_view_name": "LayoutView",
            "grid_template_rows": null,
            "right": null,
            "justify_content": null,
            "_view_module": "@jupyter-widgets/base",
            "overflow": null,
            "_model_module_version": "1.2.0",
            "_view_count": null,
            "flex_flow": null,
            "width": null,
            "min_width": null,
            "border": null,
            "align_items": null,
            "bottom": null,
            "_model_module": "@jupyter-widgets/base",
            "top": null,
            "grid_column": null,
            "overflow_y": null,
            "overflow_x": null,
            "grid_auto_flow": null,
            "grid_area": null,
            "grid_template_columns": null,
            "flex": null,
            "_model_name": "LayoutModel",
            "justify_items": null,
            "grid_row": null,
            "max_height": null,
            "align_content": null,
            "visibility": null,
            "align_self": null,
            "height": null,
            "min_height": null,
            "padding": null,
            "grid_auto_rows": null,
            "grid_gap": null,
            "max_width": null,
            "order": null,
            "_view_module_version": "1.2.0",
            "grid_template_areas": null,
            "object_position": null,
            "object_fit": null,
            "grid_auto_columns": null,
            "margin": null,
            "display": null,
            "left": null
          }
        },
        "2f13d33f8ee1441db7d1c485f4fde74c": {
          "model_module": "@jupyter-widgets/controls",
          "model_name": "DescriptionStyleModel",
          "state": {
            "_view_name": "StyleView",
            "_model_name": "DescriptionStyleModel",
            "description_width": "",
            "_view_module": "@jupyter-widgets/base",
            "_model_module_version": "1.5.0",
            "_view_count": null,
            "_view_module_version": "1.2.0",
            "_model_module": "@jupyter-widgets/controls"
          }
        },
        "347a37d580274271ac7e694a2d70f6f6": {
          "model_module": "@jupyter-widgets/base",
          "model_name": "LayoutModel",
          "state": {
            "_view_name": "LayoutView",
            "grid_template_rows": null,
            "right": null,
            "justify_content": null,
            "_view_module": "@jupyter-widgets/base",
            "overflow": null,
            "_model_module_version": "1.2.0",
            "_view_count": null,
            "flex_flow": null,
            "width": null,
            "min_width": null,
            "border": null,
            "align_items": null,
            "bottom": null,
            "_model_module": "@jupyter-widgets/base",
            "top": null,
            "grid_column": null,
            "overflow_y": null,
            "overflow_x": null,
            "grid_auto_flow": null,
            "grid_area": null,
            "grid_template_columns": null,
            "flex": null,
            "_model_name": "LayoutModel",
            "justify_items": null,
            "grid_row": null,
            "max_height": null,
            "align_content": null,
            "visibility": null,
            "align_self": null,
            "height": null,
            "min_height": null,
            "padding": null,
            "grid_auto_rows": null,
            "grid_gap": null,
            "max_width": null,
            "order": null,
            "_view_module_version": "1.2.0",
            "grid_template_areas": null,
            "object_position": null,
            "object_fit": null,
            "grid_auto_columns": null,
            "margin": null,
            "display": null,
            "left": null
          }
        },
        "7bd2a4ae335e46e99682d07f7c0b5d98": {
          "model_module": "@jupyter-widgets/controls",
          "model_name": "HBoxModel",
          "state": {
            "_view_name": "HBoxView",
            "_dom_classes": [],
            "_model_name": "HBoxModel",
            "_view_module": "@jupyter-widgets/controls",
            "_model_module_version": "1.5.0",
            "_view_count": null,
            "_view_module_version": "1.5.0",
            "box_style": "",
            "layout": "IPY_MODEL_ed4b56c6d900471e8b34a53344bdde23",
            "_model_module": "@jupyter-widgets/controls",
            "children": [
              "IPY_MODEL_7d6dcef5f2f242f786a7867316f9af14",
              "IPY_MODEL_964dec369bfe4999b4c9a4ec0012ce5f"
            ]
          }
        },
        "ed4b56c6d900471e8b34a53344bdde23": {
          "model_module": "@jupyter-widgets/base",
          "model_name": "LayoutModel",
          "state": {
            "_view_name": "LayoutView",
            "grid_template_rows": null,
            "right": null,
            "justify_content": null,
            "_view_module": "@jupyter-widgets/base",
            "overflow": null,
            "_model_module_version": "1.2.0",
            "_view_count": null,
            "flex_flow": null,
            "width": null,
            "min_width": null,
            "border": null,
            "align_items": null,
            "bottom": null,
            "_model_module": "@jupyter-widgets/base",
            "top": null,
            "grid_column": null,
            "overflow_y": null,
            "overflow_x": null,
            "grid_auto_flow": null,
            "grid_area": null,
            "grid_template_columns": null,
            "flex": null,
            "_model_name": "LayoutModel",
            "justify_items": null,
            "grid_row": null,
            "max_height": null,
            "align_content": null,
            "visibility": null,
            "align_self": null,
            "height": null,
            "min_height": null,
            "padding": null,
            "grid_auto_rows": null,
            "grid_gap": null,
            "max_width": null,
            "order": null,
            "_view_module_version": "1.2.0",
            "grid_template_areas": null,
            "object_position": null,
            "object_fit": null,
            "grid_auto_columns": null,
            "margin": null,
            "display": null,
            "left": null
          }
        },
        "7d6dcef5f2f242f786a7867316f9af14": {
          "model_module": "@jupyter-widgets/controls",
          "model_name": "FloatProgressModel",
          "state": {
            "_view_name": "ProgressView",
            "style": "IPY_MODEL_fdeae501865d4f05a469b68abc3bbc43",
            "_dom_classes": [],
            "description": "",
            "_model_name": "FloatProgressModel",
            "bar_style": "info",
            "max": 1,
            "_view_module": "@jupyter-widgets/controls",
            "_model_module_version": "1.5.0",
            "value": 1,
            "_view_count": null,
            "_view_module_version": "1.5.0",
            "orientation": "horizontal",
            "min": 0,
            "description_tooltip": null,
            "_model_module": "@jupyter-widgets/controls",
            "layout": "IPY_MODEL_4c1d781cbaab45c89e909a169a61cd00"
          }
        },
        "964dec369bfe4999b4c9a4ec0012ce5f": {
          "model_module": "@jupyter-widgets/controls",
          "model_name": "HTMLModel",
          "state": {
            "_view_name": "HTMLView",
            "style": "IPY_MODEL_15d9a18a6d064d8f9b51dda8417582a3",
            "_dom_classes": [],
            "description": "",
            "_model_name": "HTMLModel",
            "placeholder": "​",
            "_view_module": "@jupyter-widgets/controls",
            "_model_module_version": "1.5.0",
            "value": " 25000/0 [00:17&lt;00:00, 2364.50 examples/s]",
            "_view_count": null,
            "_view_module_version": "1.5.0",
            "description_tooltip": null,
            "_model_module": "@jupyter-widgets/controls",
            "layout": "IPY_MODEL_8e8601fc6e684aaea7ff7467f288aa85"
          }
        },
        "fdeae501865d4f05a469b68abc3bbc43": {
          "model_module": "@jupyter-widgets/controls",
          "model_name": "ProgressStyleModel",
          "state": {
            "_view_name": "StyleView",
            "_model_name": "ProgressStyleModel",
            "description_width": "initial",
            "_view_module": "@jupyter-widgets/base",
            "_model_module_version": "1.5.0",
            "_view_count": null,
            "_view_module_version": "1.2.0",
            "bar_color": null,
            "_model_module": "@jupyter-widgets/controls"
          }
        },
        "4c1d781cbaab45c89e909a169a61cd00": {
          "model_module": "@jupyter-widgets/base",
          "model_name": "LayoutModel",
          "state": {
            "_view_name": "LayoutView",
            "grid_template_rows": null,
            "right": null,
            "justify_content": null,
            "_view_module": "@jupyter-widgets/base",
            "overflow": null,
            "_model_module_version": "1.2.0",
            "_view_count": null,
            "flex_flow": null,
            "width": null,
            "min_width": null,
            "border": null,
            "align_items": null,
            "bottom": null,
            "_model_module": "@jupyter-widgets/base",
            "top": null,
            "grid_column": null,
            "overflow_y": null,
            "overflow_x": null,
            "grid_auto_flow": null,
            "grid_area": null,
            "grid_template_columns": null,
            "flex": null,
            "_model_name": "LayoutModel",
            "justify_items": null,
            "grid_row": null,
            "max_height": null,
            "align_content": null,
            "visibility": null,
            "align_self": null,
            "height": null,
            "min_height": null,
            "padding": null,
            "grid_auto_rows": null,
            "grid_gap": null,
            "max_width": null,
            "order": null,
            "_view_module_version": "1.2.0",
            "grid_template_areas": null,
            "object_position": null,
            "object_fit": null,
            "grid_auto_columns": null,
            "margin": null,
            "display": null,
            "left": null
          }
        },
        "15d9a18a6d064d8f9b51dda8417582a3": {
          "model_module": "@jupyter-widgets/controls",
          "model_name": "DescriptionStyleModel",
          "state": {
            "_view_name": "StyleView",
            "_model_name": "DescriptionStyleModel",
            "description_width": "",
            "_view_module": "@jupyter-widgets/base",
            "_model_module_version": "1.5.0",
            "_view_count": null,
            "_view_module_version": "1.2.0",
            "_model_module": "@jupyter-widgets/controls"
          }
        },
        "8e8601fc6e684aaea7ff7467f288aa85": {
          "model_module": "@jupyter-widgets/base",
          "model_name": "LayoutModel",
          "state": {
            "_view_name": "LayoutView",
            "grid_template_rows": null,
            "right": null,
            "justify_content": null,
            "_view_module": "@jupyter-widgets/base",
            "overflow": null,
            "_model_module_version": "1.2.0",
            "_view_count": null,
            "flex_flow": null,
            "width": null,
            "min_width": null,
            "border": null,
            "align_items": null,
            "bottom": null,
            "_model_module": "@jupyter-widgets/base",
            "top": null,
            "grid_column": null,
            "overflow_y": null,
            "overflow_x": null,
            "grid_auto_flow": null,
            "grid_area": null,
            "grid_template_columns": null,
            "flex": null,
            "_model_name": "LayoutModel",
            "justify_items": null,
            "grid_row": null,
            "max_height": null,
            "align_content": null,
            "visibility": null,
            "align_self": null,
            "height": null,
            "min_height": null,
            "padding": null,
            "grid_auto_rows": null,
            "grid_gap": null,
            "max_width": null,
            "order": null,
            "_view_module_version": "1.2.0",
            "grid_template_areas": null,
            "object_position": null,
            "object_fit": null,
            "grid_auto_columns": null,
            "margin": null,
            "display": null,
            "left": null
          }
        },
        "c2ef1ce29e3f42aa96e778882e8a7004": {
          "model_module": "@jupyter-widgets/controls",
          "model_name": "HBoxModel",
          "state": {
            "_view_name": "HBoxView",
            "_dom_classes": [],
            "_model_name": "HBoxModel",
            "_view_module": "@jupyter-widgets/controls",
            "_model_module_version": "1.5.0",
            "_view_count": null,
            "_view_module_version": "1.5.0",
            "box_style": "",
            "layout": "IPY_MODEL_a36a20bd049648d68f5b18dc2162f79f",
            "_model_module": "@jupyter-widgets/controls",
            "children": [
              "IPY_MODEL_0bc71e0441944c97be1cfb03e5de84a7",
              "IPY_MODEL_8692ac7431ea479cbf6695d7eaaeb8e1"
            ]
          }
        },
        "a36a20bd049648d68f5b18dc2162f79f": {
          "model_module": "@jupyter-widgets/base",
          "model_name": "LayoutModel",
          "state": {
            "_view_name": "LayoutView",
            "grid_template_rows": null,
            "right": null,
            "justify_content": null,
            "_view_module": "@jupyter-widgets/base",
            "overflow": null,
            "_model_module_version": "1.2.0",
            "_view_count": null,
            "flex_flow": null,
            "width": null,
            "min_width": null,
            "border": null,
            "align_items": null,
            "bottom": null,
            "_model_module": "@jupyter-widgets/base",
            "top": null,
            "grid_column": null,
            "overflow_y": null,
            "overflow_x": null,
            "grid_auto_flow": null,
            "grid_area": null,
            "grid_template_columns": null,
            "flex": null,
            "_model_name": "LayoutModel",
            "justify_items": null,
            "grid_row": null,
            "max_height": null,
            "align_content": null,
            "visibility": null,
            "align_self": null,
            "height": null,
            "min_height": null,
            "padding": null,
            "grid_auto_rows": null,
            "grid_gap": null,
            "max_width": null,
            "order": null,
            "_view_module_version": "1.2.0",
            "grid_template_areas": null,
            "object_position": null,
            "object_fit": null,
            "grid_auto_columns": null,
            "margin": null,
            "display": null,
            "left": null
          }
        },
        "0bc71e0441944c97be1cfb03e5de84a7": {
          "model_module": "@jupyter-widgets/controls",
          "model_name": "FloatProgressModel",
          "state": {
            "_view_name": "ProgressView",
            "style": "IPY_MODEL_308c69c5d2b142f096b5c47595266dd0",
            "_dom_classes": [],
            "description": " 87%",
            "_model_name": "FloatProgressModel",
            "bar_style": "danger",
            "max": 25000,
            "_view_module": "@jupyter-widgets/controls",
            "_model_module_version": "1.5.0",
            "value": 21668,
            "_view_count": null,
            "_view_module_version": "1.5.0",
            "orientation": "horizontal",
            "min": 0,
            "description_tooltip": null,
            "_model_module": "@jupyter-widgets/controls",
            "layout": "IPY_MODEL_0dd720dbed034e568eba850c75601e9b"
          }
        },
        "8692ac7431ea479cbf6695d7eaaeb8e1": {
          "model_module": "@jupyter-widgets/controls",
          "model_name": "HTMLModel",
          "state": {
            "_view_name": "HTMLView",
            "style": "IPY_MODEL_72fb8304588945e5b47830f3cf237dc2",
            "_dom_classes": [],
            "description": "",
            "_model_name": "HTMLModel",
            "placeholder": "​",
            "_view_module": "@jupyter-widgets/controls",
            "_model_module_version": "1.5.0",
            "value": " 21668/25000 [00:00&lt;00:00, 92508.72 examples/s]",
            "_view_count": null,
            "_view_module_version": "1.5.0",
            "description_tooltip": null,
            "_model_module": "@jupyter-widgets/controls",
            "layout": "IPY_MODEL_627586951b1142c6889e07a20ced8709"
          }
        },
        "308c69c5d2b142f096b5c47595266dd0": {
          "model_module": "@jupyter-widgets/controls",
          "model_name": "ProgressStyleModel",
          "state": {
            "_view_name": "StyleView",
            "_model_name": "ProgressStyleModel",
            "description_width": "initial",
            "_view_module": "@jupyter-widgets/base",
            "_model_module_version": "1.5.0",
            "_view_count": null,
            "_view_module_version": "1.2.0",
            "bar_color": null,
            "_model_module": "@jupyter-widgets/controls"
          }
        },
        "0dd720dbed034e568eba850c75601e9b": {
          "model_module": "@jupyter-widgets/base",
          "model_name": "LayoutModel",
          "state": {
            "_view_name": "LayoutView",
            "grid_template_rows": null,
            "right": null,
            "justify_content": null,
            "_view_module": "@jupyter-widgets/base",
            "overflow": null,
            "_model_module_version": "1.2.0",
            "_view_count": null,
            "flex_flow": null,
            "width": null,
            "min_width": null,
            "border": null,
            "align_items": null,
            "bottom": null,
            "_model_module": "@jupyter-widgets/base",
            "top": null,
            "grid_column": null,
            "overflow_y": null,
            "overflow_x": null,
            "grid_auto_flow": null,
            "grid_area": null,
            "grid_template_columns": null,
            "flex": null,
            "_model_name": "LayoutModel",
            "justify_items": null,
            "grid_row": null,
            "max_height": null,
            "align_content": null,
            "visibility": null,
            "align_self": null,
            "height": null,
            "min_height": null,
            "padding": null,
            "grid_auto_rows": null,
            "grid_gap": null,
            "max_width": null,
            "order": null,
            "_view_module_version": "1.2.0",
            "grid_template_areas": null,
            "object_position": null,
            "object_fit": null,
            "grid_auto_columns": null,
            "margin": null,
            "display": null,
            "left": null
          }
        },
        "72fb8304588945e5b47830f3cf237dc2": {
          "model_module": "@jupyter-widgets/controls",
          "model_name": "DescriptionStyleModel",
          "state": {
            "_view_name": "StyleView",
            "_model_name": "DescriptionStyleModel",
            "description_width": "",
            "_view_module": "@jupyter-widgets/base",
            "_model_module_version": "1.5.0",
            "_view_count": null,
            "_view_module_version": "1.2.0",
            "_model_module": "@jupyter-widgets/controls"
          }
        },
        "627586951b1142c6889e07a20ced8709": {
          "model_module": "@jupyter-widgets/base",
          "model_name": "LayoutModel",
          "state": {
            "_view_name": "LayoutView",
            "grid_template_rows": null,
            "right": null,
            "justify_content": null,
            "_view_module": "@jupyter-widgets/base",
            "overflow": null,
            "_model_module_version": "1.2.0",
            "_view_count": null,
            "flex_flow": null,
            "width": null,
            "min_width": null,
            "border": null,
            "align_items": null,
            "bottom": null,
            "_model_module": "@jupyter-widgets/base",
            "top": null,
            "grid_column": null,
            "overflow_y": null,
            "overflow_x": null,
            "grid_auto_flow": null,
            "grid_area": null,
            "grid_template_columns": null,
            "flex": null,
            "_model_name": "LayoutModel",
            "justify_items": null,
            "grid_row": null,
            "max_height": null,
            "align_content": null,
            "visibility": null,
            "align_self": null,
            "height": null,
            "min_height": null,
            "padding": null,
            "grid_auto_rows": null,
            "grid_gap": null,
            "max_width": null,
            "order": null,
            "_view_module_version": "1.2.0",
            "grid_template_areas": null,
            "object_position": null,
            "object_fit": null,
            "grid_auto_columns": null,
            "margin": null,
            "display": null,
            "left": null
          }
        },
        "20ec42f3a50d44d4ae6a3e75c3c2e855": {
          "model_module": "@jupyter-widgets/controls",
          "model_name": "HBoxModel",
          "state": {
            "_view_name": "HBoxView",
            "_dom_classes": [],
            "_model_name": "HBoxModel",
            "_view_module": "@jupyter-widgets/controls",
            "_model_module_version": "1.5.0",
            "_view_count": null,
            "_view_module_version": "1.5.0",
            "box_style": "",
            "layout": "IPY_MODEL_7cc637d64be14d759927f629561c0d67",
            "_model_module": "@jupyter-widgets/controls",
            "children": [
              "IPY_MODEL_23e5d8aee21a4d2b9098e7a1911fd373",
              "IPY_MODEL_3af5fe4ceb7545f48bcf92dc292964a3"
            ]
          }
        },
        "7cc637d64be14d759927f629561c0d67": {
          "model_module": "@jupyter-widgets/base",
          "model_name": "LayoutModel",
          "state": {
            "_view_name": "LayoutView",
            "grid_template_rows": null,
            "right": null,
            "justify_content": null,
            "_view_module": "@jupyter-widgets/base",
            "overflow": null,
            "_model_module_version": "1.2.0",
            "_view_count": null,
            "flex_flow": null,
            "width": null,
            "min_width": null,
            "border": null,
            "align_items": null,
            "bottom": null,
            "_model_module": "@jupyter-widgets/base",
            "top": null,
            "grid_column": null,
            "overflow_y": null,
            "overflow_x": null,
            "grid_auto_flow": null,
            "grid_area": null,
            "grid_template_columns": null,
            "flex": null,
            "_model_name": "LayoutModel",
            "justify_items": null,
            "grid_row": null,
            "max_height": null,
            "align_content": null,
            "visibility": null,
            "align_self": null,
            "height": null,
            "min_height": null,
            "padding": null,
            "grid_auto_rows": null,
            "grid_gap": null,
            "max_width": null,
            "order": null,
            "_view_module_version": "1.2.0",
            "grid_template_areas": null,
            "object_position": null,
            "object_fit": null,
            "grid_auto_columns": null,
            "margin": null,
            "display": null,
            "left": null
          }
        },
        "23e5d8aee21a4d2b9098e7a1911fd373": {
          "model_module": "@jupyter-widgets/controls",
          "model_name": "FloatProgressModel",
          "state": {
            "_view_name": "ProgressView",
            "style": "IPY_MODEL_dd2bddfb2c68416080b4a351dffd1994",
            "_dom_classes": [],
            "description": "",
            "_model_name": "FloatProgressModel",
            "bar_style": "info",
            "max": 1,
            "_view_module": "@jupyter-widgets/controls",
            "_model_module_version": "1.5.0",
            "value": 1,
            "_view_count": null,
            "_view_module_version": "1.5.0",
            "orientation": "horizontal",
            "min": 0,
            "description_tooltip": null,
            "_model_module": "@jupyter-widgets/controls",
            "layout": "IPY_MODEL_233a85bbdcaa4440b8808b546ab6ec14"
          }
        },
        "3af5fe4ceb7545f48bcf92dc292964a3": {
          "model_module": "@jupyter-widgets/controls",
          "model_name": "HTMLModel",
          "state": {
            "_view_name": "HTMLView",
            "style": "IPY_MODEL_1d6c18157cc94ff887c29f54fc5d16ae",
            "_dom_classes": [],
            "description": "",
            "_model_name": "HTMLModel",
            "placeholder": "​",
            "_view_module": "@jupyter-widgets/controls",
            "_model_module_version": "1.5.0",
            "value": " 50000/0 [00:25&lt;00:00, 2455.22 examples/s]",
            "_view_count": null,
            "_view_module_version": "1.5.0",
            "description_tooltip": null,
            "_model_module": "@jupyter-widgets/controls",
            "layout": "IPY_MODEL_fe95dfb2176240af9a029d62a938c3ad"
          }
        },
        "dd2bddfb2c68416080b4a351dffd1994": {
          "model_module": "@jupyter-widgets/controls",
          "model_name": "ProgressStyleModel",
          "state": {
            "_view_name": "StyleView",
            "_model_name": "ProgressStyleModel",
            "description_width": "initial",
            "_view_module": "@jupyter-widgets/base",
            "_model_module_version": "1.5.0",
            "_view_count": null,
            "_view_module_version": "1.2.0",
            "bar_color": null,
            "_model_module": "@jupyter-widgets/controls"
          }
        },
        "233a85bbdcaa4440b8808b546ab6ec14": {
          "model_module": "@jupyter-widgets/base",
          "model_name": "LayoutModel",
          "state": {
            "_view_name": "LayoutView",
            "grid_template_rows": null,
            "right": null,
            "justify_content": null,
            "_view_module": "@jupyter-widgets/base",
            "overflow": null,
            "_model_module_version": "1.2.0",
            "_view_count": null,
            "flex_flow": null,
            "width": null,
            "min_width": null,
            "border": null,
            "align_items": null,
            "bottom": null,
            "_model_module": "@jupyter-widgets/base",
            "top": null,
            "grid_column": null,
            "overflow_y": null,
            "overflow_x": null,
            "grid_auto_flow": null,
            "grid_area": null,
            "grid_template_columns": null,
            "flex": null,
            "_model_name": "LayoutModel",
            "justify_items": null,
            "grid_row": null,
            "max_height": null,
            "align_content": null,
            "visibility": null,
            "align_self": null,
            "height": null,
            "min_height": null,
            "padding": null,
            "grid_auto_rows": null,
            "grid_gap": null,
            "max_width": null,
            "order": null,
            "_view_module_version": "1.2.0",
            "grid_template_areas": null,
            "object_position": null,
            "object_fit": null,
            "grid_auto_columns": null,
            "margin": null,
            "display": null,
            "left": null
          }
        },
        "1d6c18157cc94ff887c29f54fc5d16ae": {
          "model_module": "@jupyter-widgets/controls",
          "model_name": "DescriptionStyleModel",
          "state": {
            "_view_name": "StyleView",
            "_model_name": "DescriptionStyleModel",
            "description_width": "",
            "_view_module": "@jupyter-widgets/base",
            "_model_module_version": "1.5.0",
            "_view_count": null,
            "_view_module_version": "1.2.0",
            "_model_module": "@jupyter-widgets/controls"
          }
        },
        "fe95dfb2176240af9a029d62a938c3ad": {
          "model_module": "@jupyter-widgets/base",
          "model_name": "LayoutModel",
          "state": {
            "_view_name": "LayoutView",
            "grid_template_rows": null,
            "right": null,
            "justify_content": null,
            "_view_module": "@jupyter-widgets/base",
            "overflow": null,
            "_model_module_version": "1.2.0",
            "_view_count": null,
            "flex_flow": null,
            "width": null,
            "min_width": null,
            "border": null,
            "align_items": null,
            "bottom": null,
            "_model_module": "@jupyter-widgets/base",
            "top": null,
            "grid_column": null,
            "overflow_y": null,
            "overflow_x": null,
            "grid_auto_flow": null,
            "grid_area": null,
            "grid_template_columns": null,
            "flex": null,
            "_model_name": "LayoutModel",
            "justify_items": null,
            "grid_row": null,
            "max_height": null,
            "align_content": null,
            "visibility": null,
            "align_self": null,
            "height": null,
            "min_height": null,
            "padding": null,
            "grid_auto_rows": null,
            "grid_gap": null,
            "max_width": null,
            "order": null,
            "_view_module_version": "1.2.0",
            "grid_template_areas": null,
            "object_position": null,
            "object_fit": null,
            "grid_auto_columns": null,
            "margin": null,
            "display": null,
            "left": null
          }
        },
        "54dbe34e99b241a189cc304e657069f3": {
          "model_module": "@jupyter-widgets/controls",
          "model_name": "HBoxModel",
          "state": {
            "_view_name": "HBoxView",
            "_dom_classes": [],
            "_model_name": "HBoxModel",
            "_view_module": "@jupyter-widgets/controls",
            "_model_module_version": "1.5.0",
            "_view_count": null,
            "_view_module_version": "1.5.0",
            "box_style": "",
            "layout": "IPY_MODEL_91d41a99fee940d7878ce4f15fcbfe01",
            "_model_module": "@jupyter-widgets/controls",
            "children": [
              "IPY_MODEL_759c04225d744f2baced76787f58b622",
              "IPY_MODEL_43dbe2e60e1141608c7ce815061abbc2"
            ]
          }
        },
        "91d41a99fee940d7878ce4f15fcbfe01": {
          "model_module": "@jupyter-widgets/base",
          "model_name": "LayoutModel",
          "state": {
            "_view_name": "LayoutView",
            "grid_template_rows": null,
            "right": null,
            "justify_content": null,
            "_view_module": "@jupyter-widgets/base",
            "overflow": null,
            "_model_module_version": "1.2.0",
            "_view_count": null,
            "flex_flow": null,
            "width": null,
            "min_width": null,
            "border": null,
            "align_items": null,
            "bottom": null,
            "_model_module": "@jupyter-widgets/base",
            "top": null,
            "grid_column": null,
            "overflow_y": null,
            "overflow_x": null,
            "grid_auto_flow": null,
            "grid_area": null,
            "grid_template_columns": null,
            "flex": null,
            "_model_name": "LayoutModel",
            "justify_items": null,
            "grid_row": null,
            "max_height": null,
            "align_content": null,
            "visibility": null,
            "align_self": null,
            "height": null,
            "min_height": null,
            "padding": null,
            "grid_auto_rows": null,
            "grid_gap": null,
            "max_width": null,
            "order": null,
            "_view_module_version": "1.2.0",
            "grid_template_areas": null,
            "object_position": null,
            "object_fit": null,
            "grid_auto_columns": null,
            "margin": null,
            "display": null,
            "left": null
          }
        },
        "759c04225d744f2baced76787f58b622": {
          "model_module": "@jupyter-widgets/controls",
          "model_name": "FloatProgressModel",
          "state": {
            "_view_name": "ProgressView",
            "style": "IPY_MODEL_8d9eeade314d4efbaa4cdee07114a339",
            "_dom_classes": [],
            "description": " 90%",
            "_model_name": "FloatProgressModel",
            "bar_style": "danger",
            "max": 50000,
            "_view_module": "@jupyter-widgets/controls",
            "_model_module_version": "1.5.0",
            "value": 45178,
            "_view_count": null,
            "_view_module_version": "1.5.0",
            "orientation": "horizontal",
            "min": 0,
            "description_tooltip": null,
            "_model_module": "@jupyter-widgets/controls",
            "layout": "IPY_MODEL_a34675e00e3e4082a2ad2bcbeab3769f"
          }
        },
        "43dbe2e60e1141608c7ce815061abbc2": {
          "model_module": "@jupyter-widgets/controls",
          "model_name": "HTMLModel",
          "state": {
            "_view_name": "HTMLView",
            "style": "IPY_MODEL_e8ca9df5e0834e9fa94aff039b96c01c",
            "_dom_classes": [],
            "description": "",
            "_model_name": "HTMLModel",
            "placeholder": "​",
            "_view_module": "@jupyter-widgets/controls",
            "_model_module_version": "1.5.0",
            "value": " 45178/50000 [00:00&lt;00:00, 68667.89 examples/s]",
            "_view_count": null,
            "_view_module_version": "1.5.0",
            "description_tooltip": null,
            "_model_module": "@jupyter-widgets/controls",
            "layout": "IPY_MODEL_8a7d255851284f3c985b4cecafb17795"
          }
        },
        "8d9eeade314d4efbaa4cdee07114a339": {
          "model_module": "@jupyter-widgets/controls",
          "model_name": "ProgressStyleModel",
          "state": {
            "_view_name": "StyleView",
            "_model_name": "ProgressStyleModel",
            "description_width": "initial",
            "_view_module": "@jupyter-widgets/base",
            "_model_module_version": "1.5.0",
            "_view_count": null,
            "_view_module_version": "1.2.0",
            "bar_color": null,
            "_model_module": "@jupyter-widgets/controls"
          }
        },
        "a34675e00e3e4082a2ad2bcbeab3769f": {
          "model_module": "@jupyter-widgets/base",
          "model_name": "LayoutModel",
          "state": {
            "_view_name": "LayoutView",
            "grid_template_rows": null,
            "right": null,
            "justify_content": null,
            "_view_module": "@jupyter-widgets/base",
            "overflow": null,
            "_model_module_version": "1.2.0",
            "_view_count": null,
            "flex_flow": null,
            "width": null,
            "min_width": null,
            "border": null,
            "align_items": null,
            "bottom": null,
            "_model_module": "@jupyter-widgets/base",
            "top": null,
            "grid_column": null,
            "overflow_y": null,
            "overflow_x": null,
            "grid_auto_flow": null,
            "grid_area": null,
            "grid_template_columns": null,
            "flex": null,
            "_model_name": "LayoutModel",
            "justify_items": null,
            "grid_row": null,
            "max_height": null,
            "align_content": null,
            "visibility": null,
            "align_self": null,
            "height": null,
            "min_height": null,
            "padding": null,
            "grid_auto_rows": null,
            "grid_gap": null,
            "max_width": null,
            "order": null,
            "_view_module_version": "1.2.0",
            "grid_template_areas": null,
            "object_position": null,
            "object_fit": null,
            "grid_auto_columns": null,
            "margin": null,
            "display": null,
            "left": null
          }
        },
        "e8ca9df5e0834e9fa94aff039b96c01c": {
          "model_module": "@jupyter-widgets/controls",
          "model_name": "DescriptionStyleModel",
          "state": {
            "_view_name": "StyleView",
            "_model_name": "DescriptionStyleModel",
            "description_width": "",
            "_view_module": "@jupyter-widgets/base",
            "_model_module_version": "1.5.0",
            "_view_count": null,
            "_view_module_version": "1.2.0",
            "_model_module": "@jupyter-widgets/controls"
          }
        },
        "8a7d255851284f3c985b4cecafb17795": {
          "model_module": "@jupyter-widgets/base",
          "model_name": "LayoutModel",
          "state": {
            "_view_name": "LayoutView",
            "grid_template_rows": null,
            "right": null,
            "justify_content": null,
            "_view_module": "@jupyter-widgets/base",
            "overflow": null,
            "_model_module_version": "1.2.0",
            "_view_count": null,
            "flex_flow": null,
            "width": null,
            "min_width": null,
            "border": null,
            "align_items": null,
            "bottom": null,
            "_model_module": "@jupyter-widgets/base",
            "top": null,
            "grid_column": null,
            "overflow_y": null,
            "overflow_x": null,
            "grid_auto_flow": null,
            "grid_area": null,
            "grid_template_columns": null,
            "flex": null,
            "_model_name": "LayoutModel",
            "justify_items": null,
            "grid_row": null,
            "max_height": null,
            "align_content": null,
            "visibility": null,
            "align_self": null,
            "height": null,
            "min_height": null,
            "padding": null,
            "grid_auto_rows": null,
            "grid_gap": null,
            "max_width": null,
            "order": null,
            "_view_module_version": "1.2.0",
            "grid_template_areas": null,
            "object_position": null,
            "object_fit": null,
            "grid_auto_columns": null,
            "margin": null,
            "display": null,
            "left": null
          }
        }
      }
    }
  },
  "cells": [
    {
      "cell_type": "code",
      "metadata": {
        "id": "XkR4Y0CVW4ys",
        "colab_type": "code",
        "colab": {}
      },
      "source": [
        "# import dependencies"
      ],
      "execution_count": 1,
      "outputs": []
    },
    {
      "cell_type": "markdown",
      "metadata": {
        "id": "cRwW_N8-Yvhd",
        "colab_type": "text"
      },
      "source": [
        "#**IMdb Reviews classification using Tensorflow**\n",
        "\n",
        "in this notebook im going to classify positive and negative reviews based on the comments, so the steps are...\n",
        "\n",
        "- loading the datasets from the tensorflow datsets with samples ( train - 25000 , test - 25000) texts\n",
        "\n",
        "- Data preprocessing and exploration\n",
        "\n",
        "- tokenization ,sequences and padding the texts\n",
        "\n",
        "- Training the model with LSTM( Bidirectional) layers\n",
        "\n",
        "- Predicting the Sample texts\n"
      ]
    },
    {
      "cell_type": "code",
      "metadata": {
        "id": "ETfD8leVYZov",
        "colab_type": "code",
        "colab": {}
      },
      "source": [
        "import tensorflow as tf\n",
        "from tensorflow import keras\n",
        "import pandas as pd\n",
        "import numpy as np\n",
        "import tensorflow_datasets as tfds"
      ],
      "execution_count": 2,
      "outputs": []
    },
    {
      "cell_type": "markdown",
      "metadata": {
        "id": "Hp_F5ra4amuD",
        "colab_type": "text"
      },
      "source": [
        "#**1. Loading the dataset**\n",
        "\n",
        "loading the datasets from the tfds( tensorflow datasets ) import tensorflow_datasets as tfds"
      ]
    },
    {
      "cell_type": "code",
      "metadata": {
        "id": "si2nOzetYxyp",
        "colab_type": "code",
        "colab": {
          "base_uri": "https://localhost:8080/",
          "height": 350,
          "referenced_widgets": [
            "1e25756096a94f8ba375ff420eed23c9",
            "087e8fdc5a4f433a92e764abc9a00e93",
            "64620591c7484e81ac35ed5504d9a716",
            "38b6727def84445e8613a725f4463780",
            "834eaecabf5b4c14b94111e37287dbaf",
            "22b2892d2817414ea1e7e3c84f0fc668",
            "0c307ee3f19c46aeab4630624acc1ff8",
            "0a8f376a0fd847e390d33f34598f4ce7",
            "59ee1542d40141da9d08c158f81aefec",
            "cbc5cade055c4636ae8326bf5cfae87b",
            "9017830b8cc0441f8a31863e75b93072",
            "1660b8bccff742a284e16c69fb2d19a1",
            "e50e0ab4afbf4f2c94eab4581ea83d96",
            "45ad50dc6f5a4fa39b8be6a0a6955fcb",
            "425e29a1fc0c4a0c954b4b70f9d18d1a",
            "e3d910ceaacd43438808ce8fd8c8bca2",
            "368ee3ad386a4089829f14a7fc8936a8",
            "08a7888040d64950bb1635808e5d149c",
            "67f22550a8514a4ea9e7079a719205e4",
            "b8f1e65b0fea46b49eec9e80de5b6bd2",
            "f02b247cce814329a838a8d8aa3af478",
            "3d9c405e725e4e55a1112af1260cb0cc",
            "6e1fe1656343417ab36b0160b79409f6",
            "5f848105440a451ba741012aeec50959",
            "63582760076843318b0bff39bc107582",
            "ea1eb1e11f8c49dd9efd9a9bc2679d6f",
            "a11d0ede70b3444ea19bed6ed671f365",
            "4fb5447c553f49a88b89d7371fcafd12",
            "63370aab50114526a105978b7c5ffff1",
            "2294ac7db8f8466fbbf454fcb1cf41dd",
            "2f13d33f8ee1441db7d1c485f4fde74c",
            "347a37d580274271ac7e694a2d70f6f6",
            "7bd2a4ae335e46e99682d07f7c0b5d98",
            "ed4b56c6d900471e8b34a53344bdde23",
            "7d6dcef5f2f242f786a7867316f9af14",
            "964dec369bfe4999b4c9a4ec0012ce5f",
            "fdeae501865d4f05a469b68abc3bbc43",
            "4c1d781cbaab45c89e909a169a61cd00",
            "15d9a18a6d064d8f9b51dda8417582a3",
            "8e8601fc6e684aaea7ff7467f288aa85",
            "c2ef1ce29e3f42aa96e778882e8a7004",
            "a36a20bd049648d68f5b18dc2162f79f",
            "0bc71e0441944c97be1cfb03e5de84a7",
            "8692ac7431ea479cbf6695d7eaaeb8e1",
            "308c69c5d2b142f096b5c47595266dd0",
            "0dd720dbed034e568eba850c75601e9b",
            "72fb8304588945e5b47830f3cf237dc2",
            "627586951b1142c6889e07a20ced8709",
            "20ec42f3a50d44d4ae6a3e75c3c2e855",
            "7cc637d64be14d759927f629561c0d67",
            "23e5d8aee21a4d2b9098e7a1911fd373",
            "3af5fe4ceb7545f48bcf92dc292964a3",
            "dd2bddfb2c68416080b4a351dffd1994",
            "233a85bbdcaa4440b8808b546ab6ec14",
            "1d6c18157cc94ff887c29f54fc5d16ae",
            "fe95dfb2176240af9a029d62a938c3ad",
            "54dbe34e99b241a189cc304e657069f3",
            "91d41a99fee940d7878ce4f15fcbfe01",
            "759c04225d744f2baced76787f58b622",
            "43dbe2e60e1141608c7ce815061abbc2",
            "8d9eeade314d4efbaa4cdee07114a339",
            "a34675e00e3e4082a2ad2bcbeab3769f",
            "e8ca9df5e0834e9fa94aff039b96c01c",
            "8a7d255851284f3c985b4cecafb17795"
          ]
        },
        "outputId": "c1f9ea38-f184-4d37-be9d-e16f3b868980"
      },
      "source": [
        "# loading the datasets\n",
        "# with_info - the information of the dataset\n",
        "\n",
        "data , info = tfds.load(\"imdb_reviews/plain_text\", with_info = True, as_supervised = True)"
      ],
      "execution_count": 3,
      "outputs": [
        {
          "output_type": "stream",
          "text": [
            "\u001b[1mDownloading and preparing dataset imdb_reviews/plain_text/1.0.0 (download: 80.23 MiB, generated: Unknown size, total: 80.23 MiB) to /root/tensorflow_datasets/imdb_reviews/plain_text/1.0.0...\u001b[0m\n"
          ],
          "name": "stdout"
        },
        {
          "output_type": "display_data",
          "data": {
            "application/vnd.jupyter.widget-view+json": {
              "model_id": "1e25756096a94f8ba375ff420eed23c9",
              "version_minor": 0,
              "version_major": 2
            },
            "text/plain": [
              "HBox(children=(FloatProgress(value=1.0, bar_style='info', description='Dl Completed...', max=1.0, style=Progre…"
            ]
          },
          "metadata": {
            "tags": []
          }
        },
        {
          "output_type": "display_data",
          "data": {
            "application/vnd.jupyter.widget-view+json": {
              "model_id": "59ee1542d40141da9d08c158f81aefec",
              "version_minor": 0,
              "version_major": 2
            },
            "text/plain": [
              "HBox(children=(FloatProgress(value=1.0, bar_style='info', description='Dl Size...', max=1.0, style=ProgressSty…"
            ]
          },
          "metadata": {
            "tags": []
          }
        },
        {
          "output_type": "stream",
          "text": [
            "\n",
            "\n",
            "\n",
            "\n"
          ],
          "name": "stdout"
        },
        {
          "output_type": "display_data",
          "data": {
            "application/vnd.jupyter.widget-view+json": {
              "model_id": "368ee3ad386a4089829f14a7fc8936a8",
              "version_minor": 0,
              "version_major": 2
            },
            "text/plain": [
              "HBox(children=(FloatProgress(value=1.0, bar_style='info', max=1.0), HTML(value='')))"
            ]
          },
          "metadata": {
            "tags": []
          }
        },
        {
          "output_type": "stream",
          "text": [
            "\rShuffling and writing examples to /root/tensorflow_datasets/imdb_reviews/plain_text/1.0.0.incompleteAZE9R6/imdb_reviews-train.tfrecord\n"
          ],
          "name": "stdout"
        },
        {
          "output_type": "display_data",
          "data": {
            "application/vnd.jupyter.widget-view+json": {
              "model_id": "63582760076843318b0bff39bc107582",
              "version_minor": 0,
              "version_major": 2
            },
            "text/plain": [
              "HBox(children=(FloatProgress(value=0.0, max=25000.0), HTML(value='')))"
            ]
          },
          "metadata": {
            "tags": []
          }
        },
        {
          "output_type": "stream",
          "text": [
            "\r"
          ],
          "name": "stdout"
        },
        {
          "output_type": "display_data",
          "data": {
            "application/vnd.jupyter.widget-view+json": {
              "model_id": "7bd2a4ae335e46e99682d07f7c0b5d98",
              "version_minor": 0,
              "version_major": 2
            },
            "text/plain": [
              "HBox(children=(FloatProgress(value=1.0, bar_style='info', max=1.0), HTML(value='')))"
            ]
          },
          "metadata": {
            "tags": []
          }
        },
        {
          "output_type": "stream",
          "text": [
            "\rShuffling and writing examples to /root/tensorflow_datasets/imdb_reviews/plain_text/1.0.0.incompleteAZE9R6/imdb_reviews-test.tfrecord\n"
          ],
          "name": "stdout"
        },
        {
          "output_type": "display_data",
          "data": {
            "application/vnd.jupyter.widget-view+json": {
              "model_id": "c2ef1ce29e3f42aa96e778882e8a7004",
              "version_minor": 0,
              "version_major": 2
            },
            "text/plain": [
              "HBox(children=(FloatProgress(value=0.0, max=25000.0), HTML(value='')))"
            ]
          },
          "metadata": {
            "tags": []
          }
        },
        {
          "output_type": "stream",
          "text": [
            "\r"
          ],
          "name": "stdout"
        },
        {
          "output_type": "display_data",
          "data": {
            "application/vnd.jupyter.widget-view+json": {
              "model_id": "20ec42f3a50d44d4ae6a3e75c3c2e855",
              "version_minor": 0,
              "version_major": 2
            },
            "text/plain": [
              "HBox(children=(FloatProgress(value=1.0, bar_style='info', max=1.0), HTML(value='')))"
            ]
          },
          "metadata": {
            "tags": []
          }
        },
        {
          "output_type": "stream",
          "text": [
            "\rShuffling and writing examples to /root/tensorflow_datasets/imdb_reviews/plain_text/1.0.0.incompleteAZE9R6/imdb_reviews-unsupervised.tfrecord\n"
          ],
          "name": "stdout"
        },
        {
          "output_type": "display_data",
          "data": {
            "application/vnd.jupyter.widget-view+json": {
              "model_id": "54dbe34e99b241a189cc304e657069f3",
              "version_minor": 0,
              "version_major": 2
            },
            "text/plain": [
              "HBox(children=(FloatProgress(value=0.0, max=50000.0), HTML(value='')))"
            ]
          },
          "metadata": {
            "tags": []
          }
        },
        {
          "output_type": "stream",
          "text": [
            "\u001b[1mDataset imdb_reviews downloaded and prepared to /root/tensorflow_datasets/imdb_reviews/plain_text/1.0.0. Subsequent calls will reuse this data.\u001b[0m\n",
            "\r"
          ],
          "name": "stdout"
        }
      ]
    },
    {
      "cell_type": "markdown",
      "metadata": {
        "id": "aIeiybd4bbmO",
        "colab_type": "text"
      },
      "source": [
        "splitting the datasets for training and testing "
      ]
    },
    {
      "cell_type": "code",
      "metadata": {
        "id": "lnVDQ1bhcIHc",
        "colab_type": "code",
        "colab": {}
      },
      "source": [
        "train_data, test_data = data[\"train\"], data[\"test\"]"
      ],
      "execution_count": 9,
      "outputs": []
    },
    {
      "cell_type": "markdown",
      "metadata": {
        "id": "qyutnUdVbacc",
        "colab_type": "text"
      },
      "source": [
        "checking the length of the datasets of both train and test (25000)"
      ]
    },
    {
      "cell_type": "code",
      "metadata": {
        "id": "xNuJ1EcWdDsF",
        "colab_type": "code",
        "colab": {
          "base_uri": "https://localhost:8080/",
          "height": 34
        },
        "outputId": "2a3fbc5f-b018-4c21-834e-9002d2f7f60d"
      },
      "source": [
        "\n",
        "len(list(train_data)) , len(list(test_data))"
      ],
      "execution_count": 10,
      "outputs": [
        {
          "output_type": "execute_result",
          "data": {
            "text/plain": [
              "(25000, 25000)"
            ]
          },
          "metadata": {
            "tags": []
          },
          "execution_count": 10
        }
      ]
    },
    {
      "cell_type": "markdown",
      "metadata": {
        "id": "gDZMxwz4b9mp",
        "colab_type": "text"
      },
      "source": [
        "#**2. Data preprocessing and Exploration**"
      ]
    },
    {
      "cell_type": "code",
      "metadata": {
        "id": "dOYAhGhydOks",
        "colab_type": "code",
        "colab": {
          "base_uri": "https://localhost:8080/",
          "height": 547
        },
        "outputId": "b35c248c-b8e1-40b7-886f-46bad7a7d0b3"
      },
      "source": [
        "info"
      ],
      "execution_count": 11,
      "outputs": [
        {
          "output_type": "execute_result",
          "data": {
            "text/plain": [
              "tfds.core.DatasetInfo(\n",
              "    name='imdb_reviews',\n",
              "    version=1.0.0,\n",
              "    description='Large Movie Review Dataset.\n",
              "This is a dataset for binary sentiment classification containing substantially more data than previous benchmark datasets. We provide a set of 25,000 highly polar movie reviews for training, and 25,000 for testing. There is additional unlabeled data for use as well.',\n",
              "    homepage='http://ai.stanford.edu/~amaas/data/sentiment/',\n",
              "    features=FeaturesDict({\n",
              "        'label': ClassLabel(shape=(), dtype=tf.int64, num_classes=2),\n",
              "        'text': Text(shape=(), dtype=tf.string),\n",
              "    }),\n",
              "    total_num_examples=100000,\n",
              "    splits={\n",
              "        'test': 25000,\n",
              "        'train': 25000,\n",
              "        'unsupervised': 50000,\n",
              "    },\n",
              "    supervised_keys=('text', 'label'),\n",
              "    citation=\"\"\"@InProceedings{maas-EtAl:2011:ACL-HLT2011,\n",
              "      author    = {Maas, Andrew L.  and  Daly, Raymond E.  and  Pham, Peter T.  and  Huang, Dan  and  Ng, Andrew Y.  and  Potts, Christopher},\n",
              "      title     = {Learning Word Vectors for Sentiment Analysis},\n",
              "      booktitle = {Proceedings of the 49th Annual Meeting of the Association for Computational Linguistics: Human Language Technologies},\n",
              "      month     = {June},\n",
              "      year      = {2011},\n",
              "      address   = {Portland, Oregon, USA},\n",
              "      publisher = {Association for Computational Linguistics},\n",
              "      pages     = {142--150},\n",
              "      url       = {http://www.aclweb.org/anthology/P11-1015}\n",
              "    }\"\"\",\n",
              "    redistribution_info=,\n",
              ")"
            ]
          },
          "metadata": {
            "tags": []
          },
          "execution_count": 11
        }
      ]
    },
    {
      "cell_type": "markdown",
      "metadata": {
        "id": "DaOG2qt7b5Lh",
        "colab_type": "text"
      },
      "source": [
        "from the above info , that data's from the datasets are 1. texts and 2. labels (similar to json format)\n",
        "\n",
        "okay, now will see some of the data"
      ]
    },
    {
      "cell_type": "code",
      "metadata": {
        "id": "rlAB4vG0dWOS",
        "colab_type": "code",
        "colab": {
          "base_uri": "https://localhost:8080/",
          "height": 377
        },
        "outputId": "d75e2c6a-6597-4ebb-95d7-07d50555aae1"
      },
      "source": [
        "# lets see the data text reviews\n",
        "\n",
        "for reviews in train_data.take(5):\n",
        "  print(reviews[0].numpy().decode(\"utf-8\"))\n",
        "  print(reviews[1].numpy())\n",
        "  print(\"\\n\")\n",
        "\n"
      ],
      "execution_count": 61,
      "outputs": [
        {
          "output_type": "stream",
          "text": [
            "This was an absolutely terrible movie. Don't be lured in by Christopher Walken or Michael Ironside. Both are great actors, but this must simply be their worst role in history. Even their great acting could not redeem this movie's ridiculous storyline. This movie is an early nineties US propaganda piece. The most pathetic scenes were those when the Columbian rebels were making their cases for revolutions. Maria Conchita Alonso appeared phony, and her pseudo-love affair with Walken was nothing but a pathetic emotional plug in a movie that was devoid of any real meaning. I am disappointed that there are movies like this, ruining actor's like Christopher Walken's good name. I could barely sit through it.\n",
            "0\n",
            "\n",
            "\n",
            "I have been known to fall asleep during films, but this is usually due to a combination of things including, really tired, being warm and comfortable on the sette and having just eaten a lot. However on this occasion I fell asleep because the film was rubbish. The plot development was constant. Constantly slow and boring. Things seemed to happen, but with no explanation of what was causing them or why. I admit, I may have missed part of the film, but i watched the majority of it and everything just seemed to happen of its own accord without any real concern for anything else. I cant recommend this film at all.\n",
            "0\n",
            "\n",
            "\n",
            "Mann photographs the Alberta Rocky Mountains in a superb fashion, and Jimmy Stewart and Walter Brennan give enjoyable performances as they always seem to do. <br /><br />But come on Hollywood - a Mountie telling the people of Dawson City, Yukon to elect themselves a marshal (yes a marshal!) and to enforce the law themselves, then gunfighters battling it out on the streets for control of the town? <br /><br />Nothing even remotely resembling that happened on the Canadian side of the border during the Klondike gold rush. Mr. Mann and company appear to have mistaken Dawson City for Deadwood, the Canadian North for the American Wild West.<br /><br />Canadian viewers be prepared for a Reefer Madness type of enjoyable howl with this ludicrous plot, or, to shake your head in disgust.\n",
            "0\n",
            "\n",
            "\n",
            "This is the kind of film for a snowy Sunday afternoon when the rest of the world can go ahead with its own business as you descend into a big arm-chair and mellow for a couple of hours. Wonderful performances from Cher and Nicolas Cage (as always) gently row the plot along. There are no rapids to cross, no dangerous waters, just a warm and witty paddle through New York life at its best. A family film in every sense and one that deserves the praise it received.\n",
            "1\n",
            "\n",
            "\n",
            "As others have mentioned, all the women that go nude in this film are mostly absolutely gorgeous. The plot very ably shows the hypocrisy of the female libido. When men are around they want to be pursued, but when no \"men\" are around, they become the pursuers of a 14 year old boy. And the boy becomes a man really fast (we should all be so lucky at this age!). He then gets up the courage to pursue his true love.\n",
            "1\n",
            "\n",
            "\n"
          ],
          "name": "stdout"
        }
      ]
    },
    {
      "cell_type": "markdown",
      "metadata": {
        "id": "ywAFo4_Ec-sS",
        "colab_type": "text"
      },
      "source": [
        "we notice that labels in 0 and 1 format, moreover\n",
        "\n",
        "       0 ----> negative reviews\n",
        "       1-----> positive reviews"
      ]
    },
    {
      "cell_type": "markdown",
      "metadata": {
        "id": "62kGhItHdcMY",
        "colab_type": "text"
      },
      "source": [
        "Doing the same steps and store the text and labels in a list after thet convert to a numpy array for same train and test data "
      ]
    },
    {
      "cell_type": "code",
      "metadata": {
        "id": "e1IezJtTeDMu",
        "colab_type": "code",
        "colab": {}
      },
      "source": [
        "# now do that for train and test\n",
        "\n",
        "def preprocess(data):\n",
        "  sentences = []\n",
        "  labels = []\n",
        "\n",
        "  for i in data:\n",
        "  \n",
        "    sentences.append(i[0].numpy().decode(\"utf-8\"))\n",
        "    labels.append(i[1].numpy())\n",
        "\n",
        "  return sentences, labels\n",
        "\n",
        "\n",
        "training_text, training_label = np.array(preprocess(train_data))\n",
        "testing_text, testing_label = np.array(preprocess(test_data))\n",
        "training_label = training_label.astype(\"int\")\n",
        "testing_label = testing_label.astype(\"int\")\n"
      ],
      "execution_count": 13,
      "outputs": []
    },
    {
      "cell_type": "code",
      "metadata": {
        "id": "QUjxpigS-UgF",
        "colab_type": "code",
        "colab": {
          "base_uri": "https://localhost:8080/",
          "height": 34
        },
        "outputId": "862b14a6-1a48-48ac-b0d0-4e2a376dca29"
      },
      "source": [
        "training_label"
      ],
      "execution_count": 14,
      "outputs": [
        {
          "output_type": "execute_result",
          "data": {
            "text/plain": [
              "array([0, 0, 0, ..., 0, 0, 1])"
            ]
          },
          "metadata": {
            "tags": []
          },
          "execution_count": 14
        }
      ]
    },
    {
      "cell_type": "code",
      "metadata": {
        "id": "Z1C95I8fj_Sg",
        "colab_type": "code",
        "colab": {
          "base_uri": "https://localhost:8080/",
          "height": 34
        },
        "outputId": "b1c8dd6b-4795-4f65-d974-3f5040ada55d"
      },
      "source": [
        "\n",
        "training_text.shape , training_label.shape, testing_text.shape, testing_label.shape"
      ],
      "execution_count": 15,
      "outputs": [
        {
          "output_type": "execute_result",
          "data": {
            "text/plain": [
              "((25000,), (25000,), (25000,), (25000,))"
            ]
          },
          "metadata": {
            "tags": []
          },
          "execution_count": 15
        }
      ]
    },
    {
      "cell_type": "markdown",
      "metadata": {
        "id": "9bNXhFm8d_KX",
        "colab_type": "text"
      },
      "source": [
        "we need to find the maximum length of the training texts needed for padding "
      ]
    },
    {
      "cell_type": "code",
      "metadata": {
        "id": "O0OVmfYcnUew",
        "colab_type": "code",
        "colab": {
          "base_uri": "https://localhost:8080/",
          "height": 34
        },
        "outputId": "f924d29c-ed77-4d0d-9c14-1887e67c5ec8"
      },
      "source": [
        "max_len_sequences = max([len(i) for i in training_text])\n",
        "\n",
        "max_len_sequences"
      ],
      "execution_count": 62,
      "outputs": [
        {
          "output_type": "execute_result",
          "data": {
            "text/plain": [
              "13704"
            ]
          },
          "metadata": {
            "tags": []
          },
          "execution_count": 62
        }
      ]
    },
    {
      "cell_type": "code",
      "metadata": {
        "id": "yA9t5IoHkViK",
        "colab_type": "code",
        "colab": {}
      },
      "source": [
        "from keras.preprocessing.text import Tokenizer\n",
        "from keras.preprocessing.sequence import pad_sequences"
      ],
      "execution_count": 17,
      "outputs": []
    },
    {
      "cell_type": "markdown",
      "metadata": {
        "id": "JuSdXpxqeg9t",
        "colab_type": "text"
      },
      "source": [
        "#**3. Tokenizing, Sequence and Padding**"
      ]
    },
    {
      "cell_type": "markdown",
      "metadata": {
        "id": "MP18YNZGe_hN",
        "colab_type": "text"
      },
      "source": [
        "Tokenize the training text data"
      ]
    },
    {
      "cell_type": "code",
      "metadata": {
        "id": "AgbHMoUaksaf",
        "colab_type": "code",
        "colab": {
          "base_uri": "https://localhost:8080/",
          "height": 1000
        },
        "outputId": "1e9370e9-c527-4157-97d7-8087caff81a2"
      },
      "source": [
        "\n",
        "# tokenization\n",
        "vocab_size = 68379\n",
        "tokenize = Tokenizer(num_words= vocab_size , oov_token= \"<oov>\")\n",
        "tokenize.fit_on_texts(training_text)\n",
        "word_index = tokenize.word_index\n",
        "word_index, len(word_index)"
      ],
      "execution_count": 63,
      "outputs": [
        {
          "output_type": "execute_result",
          "data": {
            "text/plain": [
              "({'<oov>': 1,\n",
              "  'the': 2,\n",
              "  'and': 3,\n",
              "  'a': 4,\n",
              "  'of': 5,\n",
              "  'to': 6,\n",
              "  'is': 7,\n",
              "  'br': 8,\n",
              "  'in': 9,\n",
              "  'it': 10,\n",
              "  'i': 11,\n",
              "  'this': 12,\n",
              "  'that': 13,\n",
              "  'was': 14,\n",
              "  'as': 15,\n",
              "  'for': 16,\n",
              "  'with': 17,\n",
              "  'movie': 18,\n",
              "  'but': 19,\n",
              "  'film': 20,\n",
              "  'on': 21,\n",
              "  'not': 22,\n",
              "  'you': 23,\n",
              "  'are': 24,\n",
              "  'his': 25,\n",
              "  'have': 26,\n",
              "  'he': 27,\n",
              "  'be': 28,\n",
              "  'one': 29,\n",
              "  'all': 30,\n",
              "  'at': 31,\n",
              "  'by': 32,\n",
              "  'an': 33,\n",
              "  'they': 34,\n",
              "  'who': 35,\n",
              "  'so': 36,\n",
              "  'from': 37,\n",
              "  'like': 38,\n",
              "  'her': 39,\n",
              "  'or': 40,\n",
              "  'just': 41,\n",
              "  'about': 42,\n",
              "  \"it's\": 43,\n",
              "  'out': 44,\n",
              "  'if': 45,\n",
              "  'has': 46,\n",
              "  'some': 47,\n",
              "  'there': 48,\n",
              "  'what': 49,\n",
              "  'good': 50,\n",
              "  'more': 51,\n",
              "  'when': 52,\n",
              "  'very': 53,\n",
              "  'up': 54,\n",
              "  'no': 55,\n",
              "  'time': 56,\n",
              "  'she': 57,\n",
              "  'even': 58,\n",
              "  'my': 59,\n",
              "  'would': 60,\n",
              "  'which': 61,\n",
              "  'only': 62,\n",
              "  'story': 63,\n",
              "  'really': 64,\n",
              "  'see': 65,\n",
              "  'their': 66,\n",
              "  'had': 67,\n",
              "  'can': 68,\n",
              "  'were': 69,\n",
              "  'me': 70,\n",
              "  'well': 71,\n",
              "  'than': 72,\n",
              "  'we': 73,\n",
              "  'much': 74,\n",
              "  'been': 75,\n",
              "  'bad': 76,\n",
              "  'get': 77,\n",
              "  'will': 78,\n",
              "  'do': 79,\n",
              "  'also': 80,\n",
              "  'into': 81,\n",
              "  'people': 82,\n",
              "  'other': 83,\n",
              "  'first': 84,\n",
              "  'great': 85,\n",
              "  'because': 86,\n",
              "  'how': 87,\n",
              "  'him': 88,\n",
              "  'most': 89,\n",
              "  \"don't\": 90,\n",
              "  'made': 91,\n",
              "  'its': 92,\n",
              "  'then': 93,\n",
              "  'way': 94,\n",
              "  'make': 95,\n",
              "  'them': 96,\n",
              "  'too': 97,\n",
              "  'could': 98,\n",
              "  'any': 99,\n",
              "  'movies': 100,\n",
              "  'after': 101,\n",
              "  'think': 102,\n",
              "  'characters': 103,\n",
              "  'watch': 104,\n",
              "  'two': 105,\n",
              "  'films': 106,\n",
              "  'character': 107,\n",
              "  'seen': 108,\n",
              "  'many': 109,\n",
              "  'being': 110,\n",
              "  'life': 111,\n",
              "  'plot': 112,\n",
              "  'never': 113,\n",
              "  'acting': 114,\n",
              "  'little': 115,\n",
              "  'best': 116,\n",
              "  'love': 117,\n",
              "  'over': 118,\n",
              "  'where': 119,\n",
              "  'did': 120,\n",
              "  'show': 121,\n",
              "  'know': 122,\n",
              "  'off': 123,\n",
              "  'ever': 124,\n",
              "  'does': 125,\n",
              "  'better': 126,\n",
              "  'your': 127,\n",
              "  'end': 128,\n",
              "  'still': 129,\n",
              "  'man': 130,\n",
              "  'here': 131,\n",
              "  'these': 132,\n",
              "  'say': 133,\n",
              "  'scene': 134,\n",
              "  'while': 135,\n",
              "  'why': 136,\n",
              "  'scenes': 137,\n",
              "  'go': 138,\n",
              "  'such': 139,\n",
              "  'something': 140,\n",
              "  'through': 141,\n",
              "  'should': 142,\n",
              "  'back': 143,\n",
              "  \"i'm\": 144,\n",
              "  'real': 145,\n",
              "  'those': 146,\n",
              "  'watching': 147,\n",
              "  'now': 148,\n",
              "  'though': 149,\n",
              "  \"doesn't\": 150,\n",
              "  'years': 151,\n",
              "  'old': 152,\n",
              "  'thing': 153,\n",
              "  'actors': 154,\n",
              "  'work': 155,\n",
              "  '10': 156,\n",
              "  'before': 157,\n",
              "  'another': 158,\n",
              "  \"didn't\": 159,\n",
              "  'new': 160,\n",
              "  'funny': 161,\n",
              "  'nothing': 162,\n",
              "  'actually': 163,\n",
              "  'makes': 164,\n",
              "  'director': 165,\n",
              "  'look': 166,\n",
              "  'find': 167,\n",
              "  'going': 168,\n",
              "  'few': 169,\n",
              "  'same': 170,\n",
              "  'part': 171,\n",
              "  'again': 172,\n",
              "  'every': 173,\n",
              "  'lot': 174,\n",
              "  'cast': 175,\n",
              "  'us': 176,\n",
              "  'quite': 177,\n",
              "  'down': 178,\n",
              "  'want': 179,\n",
              "  'world': 180,\n",
              "  'things': 181,\n",
              "  'pretty': 182,\n",
              "  'young': 183,\n",
              "  'seems': 184,\n",
              "  'around': 185,\n",
              "  'got': 186,\n",
              "  'horror': 187,\n",
              "  'however': 188,\n",
              "  \"can't\": 189,\n",
              "  'fact': 190,\n",
              "  'take': 191,\n",
              "  'big': 192,\n",
              "  'enough': 193,\n",
              "  'long': 194,\n",
              "  'thought': 195,\n",
              "  \"that's\": 196,\n",
              "  'both': 197,\n",
              "  'between': 198,\n",
              "  'series': 199,\n",
              "  'give': 200,\n",
              "  'may': 201,\n",
              "  'original': 202,\n",
              "  'own': 203,\n",
              "  'action': 204,\n",
              "  \"i've\": 205,\n",
              "  'right': 206,\n",
              "  'without': 207,\n",
              "  'always': 208,\n",
              "  'times': 209,\n",
              "  'comedy': 210,\n",
              "  'point': 211,\n",
              "  'gets': 212,\n",
              "  'must': 213,\n",
              "  'come': 214,\n",
              "  'role': 215,\n",
              "  \"isn't\": 216,\n",
              "  'saw': 217,\n",
              "  'almost': 218,\n",
              "  'interesting': 219,\n",
              "  'least': 220,\n",
              "  'family': 221,\n",
              "  'done': 222,\n",
              "  \"there's\": 223,\n",
              "  'whole': 224,\n",
              "  'bit': 225,\n",
              "  'music': 226,\n",
              "  'script': 227,\n",
              "  'far': 228,\n",
              "  'making': 229,\n",
              "  'anything': 230,\n",
              "  'guy': 231,\n",
              "  'minutes': 232,\n",
              "  'feel': 233,\n",
              "  'last': 234,\n",
              "  'since': 235,\n",
              "  'might': 236,\n",
              "  'performance': 237,\n",
              "  \"he's\": 238,\n",
              "  '2': 239,\n",
              "  'probably': 240,\n",
              "  'kind': 241,\n",
              "  'am': 242,\n",
              "  'away': 243,\n",
              "  'yet': 244,\n",
              "  'rather': 245,\n",
              "  'tv': 246,\n",
              "  'worst': 247,\n",
              "  'girl': 248,\n",
              "  'day': 249,\n",
              "  'sure': 250,\n",
              "  'fun': 251,\n",
              "  'hard': 252,\n",
              "  'woman': 253,\n",
              "  'played': 254,\n",
              "  'each': 255,\n",
              "  'found': 256,\n",
              "  'anyone': 257,\n",
              "  'having': 258,\n",
              "  'especially': 259,\n",
              "  'although': 260,\n",
              "  'our': 261,\n",
              "  'course': 262,\n",
              "  'believe': 263,\n",
              "  'comes': 264,\n",
              "  'looking': 265,\n",
              "  'screen': 266,\n",
              "  'trying': 267,\n",
              "  'set': 268,\n",
              "  'goes': 269,\n",
              "  'looks': 270,\n",
              "  'place': 271,\n",
              "  'book': 272,\n",
              "  'different': 273,\n",
              "  'put': 274,\n",
              "  'ending': 275,\n",
              "  'money': 276,\n",
              "  'maybe': 277,\n",
              "  'once': 278,\n",
              "  'sense': 279,\n",
              "  'reason': 280,\n",
              "  'true': 281,\n",
              "  'actor': 282,\n",
              "  'everything': 283,\n",
              "  \"wasn't\": 284,\n",
              "  'shows': 285,\n",
              "  'dvd': 286,\n",
              "  'three': 287,\n",
              "  'worth': 288,\n",
              "  'year': 289,\n",
              "  'job': 290,\n",
              "  'main': 291,\n",
              "  'someone': 292,\n",
              "  'together': 293,\n",
              "  'watched': 294,\n",
              "  'play': 295,\n",
              "  'american': 296,\n",
              "  'plays': 297,\n",
              "  '1': 298,\n",
              "  'said': 299,\n",
              "  'effects': 300,\n",
              "  'later': 301,\n",
              "  'takes': 302,\n",
              "  'instead': 303,\n",
              "  'seem': 304,\n",
              "  'beautiful': 305,\n",
              "  'john': 306,\n",
              "  'himself': 307,\n",
              "  'version': 308,\n",
              "  'audience': 309,\n",
              "  'high': 310,\n",
              "  'house': 311,\n",
              "  'night': 312,\n",
              "  'during': 313,\n",
              "  'everyone': 314,\n",
              "  'left': 315,\n",
              "  'special': 316,\n",
              "  'seeing': 317,\n",
              "  'half': 318,\n",
              "  'excellent': 319,\n",
              "  'wife': 320,\n",
              "  'star': 321,\n",
              "  'shot': 322,\n",
              "  'war': 323,\n",
              "  'idea': 324,\n",
              "  'nice': 325,\n",
              "  'black': 326,\n",
              "  'less': 327,\n",
              "  'mind': 328,\n",
              "  'simply': 329,\n",
              "  'read': 330,\n",
              "  'second': 331,\n",
              "  'else': 332,\n",
              "  \"you're\": 333,\n",
              "  'father': 334,\n",
              "  'fan': 335,\n",
              "  'help': 336,\n",
              "  'poor': 337,\n",
              "  'completely': 338,\n",
              "  'death': 339,\n",
              "  '3': 340,\n",
              "  'used': 341,\n",
              "  'home': 342,\n",
              "  'either': 343,\n",
              "  'short': 344,\n",
              "  'line': 345,\n",
              "  'given': 346,\n",
              "  'men': 347,\n",
              "  'top': 348,\n",
              "  'dead': 349,\n",
              "  'budget': 350,\n",
              "  'try': 351,\n",
              "  'performances': 352,\n",
              "  'wrong': 353,\n",
              "  'classic': 354,\n",
              "  'boring': 355,\n",
              "  'enjoy': 356,\n",
              "  'need': 357,\n",
              "  'rest': 358,\n",
              "  'use': 359,\n",
              "  'hollywood': 360,\n",
              "  'kids': 361,\n",
              "  'low': 362,\n",
              "  'production': 363,\n",
              "  'until': 364,\n",
              "  'along': 365,\n",
              "  'full': 366,\n",
              "  'friends': 367,\n",
              "  'camera': 368,\n",
              "  'truly': 369,\n",
              "  'women': 370,\n",
              "  'awful': 371,\n",
              "  'video': 372,\n",
              "  'next': 373,\n",
              "  'tell': 374,\n",
              "  'remember': 375,\n",
              "  'couple': 376,\n",
              "  'stupid': 377,\n",
              "  'start': 378,\n",
              "  'stars': 379,\n",
              "  'perhaps': 380,\n",
              "  'mean': 381,\n",
              "  'sex': 382,\n",
              "  'came': 383,\n",
              "  'recommend': 384,\n",
              "  'let': 385,\n",
              "  'moments': 386,\n",
              "  'wonderful': 387,\n",
              "  'episode': 388,\n",
              "  'understand': 389,\n",
              "  'small': 390,\n",
              "  'face': 391,\n",
              "  'terrible': 392,\n",
              "  'school': 393,\n",
              "  'playing': 394,\n",
              "  'getting': 395,\n",
              "  'written': 396,\n",
              "  'often': 397,\n",
              "  'doing': 398,\n",
              "  'keep': 399,\n",
              "  'early': 400,\n",
              "  'name': 401,\n",
              "  'perfect': 402,\n",
              "  'style': 403,\n",
              "  'human': 404,\n",
              "  'definitely': 405,\n",
              "  'others': 406,\n",
              "  'gives': 407,\n",
              "  'itself': 408,\n",
              "  'lines': 409,\n",
              "  'live': 410,\n",
              "  'become': 411,\n",
              "  'person': 412,\n",
              "  'dialogue': 413,\n",
              "  'lost': 414,\n",
              "  'finally': 415,\n",
              "  'piece': 416,\n",
              "  'head': 417,\n",
              "  'case': 418,\n",
              "  'felt': 419,\n",
              "  'yes': 420,\n",
              "  'liked': 421,\n",
              "  'supposed': 422,\n",
              "  'title': 423,\n",
              "  \"couldn't\": 424,\n",
              "  'absolutely': 425,\n",
              "  'white': 426,\n",
              "  'against': 427,\n",
              "  'boy': 428,\n",
              "  'picture': 429,\n",
              "  'sort': 430,\n",
              "  'worse': 431,\n",
              "  'certainly': 432,\n",
              "  'went': 433,\n",
              "  'entire': 434,\n",
              "  'cinema': 435,\n",
              "  'waste': 436,\n",
              "  'problem': 437,\n",
              "  'hope': 438,\n",
              "  \"she's\": 439,\n",
              "  'entertaining': 440,\n",
              "  'mr': 441,\n",
              "  'overall': 442,\n",
              "  'evil': 443,\n",
              "  'called': 444,\n",
              "  'loved': 445,\n",
              "  'based': 446,\n",
              "  'oh': 447,\n",
              "  'several': 448,\n",
              "  'fans': 449,\n",
              "  'mother': 450,\n",
              "  'drama': 451,\n",
              "  'beginning': 452,\n",
              "  'killer': 453,\n",
              "  'lives': 454,\n",
              "  '5': 455,\n",
              "  'direction': 456,\n",
              "  'care': 457,\n",
              "  'becomes': 458,\n",
              "  'already': 459,\n",
              "  'laugh': 460,\n",
              "  'example': 461,\n",
              "  'friend': 462,\n",
              "  'dark': 463,\n",
              "  'despite': 464,\n",
              "  'under': 465,\n",
              "  'seemed': 466,\n",
              "  'throughout': 467,\n",
              "  '4': 468,\n",
              "  'turn': 469,\n",
              "  'unfortunately': 470,\n",
              "  'wanted': 471,\n",
              "  \"i'd\": 472,\n",
              "  '\\x96': 473,\n",
              "  'children': 474,\n",
              "  'final': 475,\n",
              "  'fine': 476,\n",
              "  'history': 477,\n",
              "  'amazing': 478,\n",
              "  'sound': 479,\n",
              "  'guess': 480,\n",
              "  'heart': 481,\n",
              "  'totally': 482,\n",
              "  'humor': 483,\n",
              "  'lead': 484,\n",
              "  'writing': 485,\n",
              "  'michael': 486,\n",
              "  'quality': 487,\n",
              "  \"you'll\": 488,\n",
              "  'close': 489,\n",
              "  'son': 490,\n",
              "  'wants': 491,\n",
              "  'guys': 492,\n",
              "  'works': 493,\n",
              "  'behind': 494,\n",
              "  'tries': 495,\n",
              "  'art': 496,\n",
              "  'side': 497,\n",
              "  'game': 498,\n",
              "  'past': 499,\n",
              "  'able': 500,\n",
              "  'b': 501,\n",
              "  'days': 502,\n",
              "  'turns': 503,\n",
              "  \"they're\": 504,\n",
              "  'child': 505,\n",
              "  'hand': 506,\n",
              "  'flick': 507,\n",
              "  'enjoyed': 508,\n",
              "  'act': 509,\n",
              "  'genre': 510,\n",
              "  'town': 511,\n",
              "  'favorite': 512,\n",
              "  'soon': 513,\n",
              "  'kill': 514,\n",
              "  'starts': 515,\n",
              "  'sometimes': 516,\n",
              "  'gave': 517,\n",
              "  'car': 518,\n",
              "  'run': 519,\n",
              "  'late': 520,\n",
              "  'eyes': 521,\n",
              "  'etc': 522,\n",
              "  'actress': 523,\n",
              "  'directed': 524,\n",
              "  'horrible': 525,\n",
              "  \"won't\": 526,\n",
              "  'brilliant': 527,\n",
              "  'viewer': 528,\n",
              "  'parts': 529,\n",
              "  'themselves': 530,\n",
              "  'self': 531,\n",
              "  'hour': 532,\n",
              "  'expect': 533,\n",
              "  'thinking': 534,\n",
              "  'stories': 535,\n",
              "  'stuff': 536,\n",
              "  'girls': 537,\n",
              "  'obviously': 538,\n",
              "  'blood': 539,\n",
              "  'decent': 540,\n",
              "  'city': 541,\n",
              "  'voice': 542,\n",
              "  'highly': 543,\n",
              "  'myself': 544,\n",
              "  'feeling': 545,\n",
              "  'fight': 546,\n",
              "  'except': 547,\n",
              "  'slow': 548,\n",
              "  'matter': 549,\n",
              "  'type': 550,\n",
              "  'anyway': 551,\n",
              "  'kid': 552,\n",
              "  'roles': 553,\n",
              "  'killed': 554,\n",
              "  'heard': 555,\n",
              "  'age': 556,\n",
              "  'says': 557,\n",
              "  'god': 558,\n",
              "  'moment': 559,\n",
              "  'took': 560,\n",
              "  'leave': 561,\n",
              "  'writer': 562,\n",
              "  'strong': 563,\n",
              "  'cannot': 564,\n",
              "  'violence': 565,\n",
              "  'police': 566,\n",
              "  'hit': 567,\n",
              "  'stop': 568,\n",
              "  'happens': 569,\n",
              "  'particularly': 570,\n",
              "  'known': 571,\n",
              "  'happened': 572,\n",
              "  'involved': 573,\n",
              "  'extremely': 574,\n",
              "  'daughter': 575,\n",
              "  'obvious': 576,\n",
              "  'told': 577,\n",
              "  'chance': 578,\n",
              "  'living': 579,\n",
              "  'coming': 580,\n",
              "  'lack': 581,\n",
              "  'experience': 582,\n",
              "  'alone': 583,\n",
              "  'including': 584,\n",
              "  \"wouldn't\": 585,\n",
              "  'murder': 586,\n",
              "  'attempt': 587,\n",
              "  's': 588,\n",
              "  'james': 589,\n",
              "  'please': 590,\n",
              "  'happen': 591,\n",
              "  'wonder': 592,\n",
              "  'crap': 593,\n",
              "  'ago': 594,\n",
              "  \"film's\": 595,\n",
              "  'brother': 596,\n",
              "  'gore': 597,\n",
              "  'complete': 598,\n",
              "  'none': 599,\n",
              "  'interest': 600,\n",
              "  'score': 601,\n",
              "  'group': 602,\n",
              "  'cut': 603,\n",
              "  'simple': 604,\n",
              "  'save': 605,\n",
              "  'ok': 606,\n",
              "  'hell': 607,\n",
              "  'looked': 608,\n",
              "  'number': 609,\n",
              "  'career': 610,\n",
              "  'song': 611,\n",
              "  'possible': 612,\n",
              "  'seriously': 613,\n",
              "  'annoying': 614,\n",
              "  'shown': 615,\n",
              "  'exactly': 616,\n",
              "  'sad': 617,\n",
              "  'running': 618,\n",
              "  'musical': 619,\n",
              "  'serious': 620,\n",
              "  'yourself': 621,\n",
              "  'taken': 622,\n",
              "  'released': 623,\n",
              "  'whose': 624,\n",
              "  'david': 625,\n",
              "  'cinematography': 626,\n",
              "  'scary': 627,\n",
              "  'ends': 628,\n",
              "  'usually': 629,\n",
              "  'hero': 630,\n",
              "  'english': 631,\n",
              "  'hours': 632,\n",
              "  'reality': 633,\n",
              "  'opening': 634,\n",
              "  \"i'll\": 635,\n",
              "  'today': 636,\n",
              "  'light': 637,\n",
              "  'across': 638,\n",
              "  'jokes': 639,\n",
              "  'hilarious': 640,\n",
              "  'somewhat': 641,\n",
              "  'usual': 642,\n",
              "  'ridiculous': 643,\n",
              "  'body': 644,\n",
              "  'cool': 645,\n",
              "  'started': 646,\n",
              "  'level': 647,\n",
              "  'view': 648,\n",
              "  'relationship': 649,\n",
              "  'change': 650,\n",
              "  'opinion': 651,\n",
              "  'happy': 652,\n",
              "  'middle': 653,\n",
              "  'taking': 654,\n",
              "  'wish': 655,\n",
              "  'finds': 656,\n",
              "  'husband': 657,\n",
              "  'order': 658,\n",
              "  'saying': 659,\n",
              "  'talking': 660,\n",
              "  'shots': 661,\n",
              "  'ones': 662,\n",
              "  'documentary': 663,\n",
              "  'huge': 664,\n",
              "  'novel': 665,\n",
              "  'mostly': 666,\n",
              "  'female': 667,\n",
              "  'robert': 668,\n",
              "  'power': 669,\n",
              "  'episodes': 670,\n",
              "  'room': 671,\n",
              "  'important': 672,\n",
              "  'rating': 673,\n",
              "  'talent': 674,\n",
              "  'five': 675,\n",
              "  'major': 676,\n",
              "  'turned': 677,\n",
              "  'strange': 678,\n",
              "  'word': 679,\n",
              "  'modern': 680,\n",
              "  'call': 681,\n",
              "  'apparently': 682,\n",
              "  'disappointed': 683,\n",
              "  'single': 684,\n",
              "  'events': 685,\n",
              "  'due': 686,\n",
              "  'four': 687,\n",
              "  'songs': 688,\n",
              "  'basically': 689,\n",
              "  'attention': 690,\n",
              "  '7': 691,\n",
              "  'knows': 692,\n",
              "  'clearly': 693,\n",
              "  'supporting': 694,\n",
              "  'knew': 695,\n",
              "  'comic': 696,\n",
              "  'non': 697,\n",
              "  'british': 698,\n",
              "  'television': 699,\n",
              "  'fast': 700,\n",
              "  'earth': 701,\n",
              "  'country': 702,\n",
              "  'cheap': 703,\n",
              "  'class': 704,\n",
              "  'future': 705,\n",
              "  'silly': 706,\n",
              "  'thriller': 707,\n",
              "  '8': 708,\n",
              "  'king': 709,\n",
              "  'problems': 710,\n",
              "  \"aren't\": 711,\n",
              "  'easily': 712,\n",
              "  'words': 713,\n",
              "  'tells': 714,\n",
              "  'miss': 715,\n",
              "  'jack': 716,\n",
              "  'local': 717,\n",
              "  'sequence': 718,\n",
              "  'bring': 719,\n",
              "  'entertainment': 720,\n",
              "  'paul': 721,\n",
              "  'beyond': 722,\n",
              "  'upon': 723,\n",
              "  'whether': 724,\n",
              "  'predictable': 725,\n",
              "  'moving': 726,\n",
              "  'straight': 727,\n",
              "  'sets': 728,\n",
              "  'similar': 729,\n",
              "  'romantic': 730,\n",
              "  'review': 731,\n",
              "  'oscar': 732,\n",
              "  'falls': 733,\n",
              "  'mystery': 734,\n",
              "  'enjoyable': 735,\n",
              "  'needs': 736,\n",
              "  'rock': 737,\n",
              "  'appears': 738,\n",
              "  'talk': 739,\n",
              "  'george': 740,\n",
              "  'giving': 741,\n",
              "  'eye': 742,\n",
              "  'within': 743,\n",
              "  'richard': 744,\n",
              "  'ten': 745,\n",
              "  'animation': 746,\n",
              "  'message': 747,\n",
              "  'near': 748,\n",
              "  'theater': 749,\n",
              "  'above': 750,\n",
              "  'dull': 751,\n",
              "  'nearly': 752,\n",
              "  'sequel': 753,\n",
              "  'theme': 754,\n",
              "  'points': 755,\n",
              "  \"'\": 756,\n",
              "  'stand': 757,\n",
              "  'mention': 758,\n",
              "  'lady': 759,\n",
              "  'bunch': 760,\n",
              "  'add': 761,\n",
              "  'feels': 762,\n",
              "  'herself': 763,\n",
              "  'release': 764,\n",
              "  'red': 765,\n",
              "  'team': 766,\n",
              "  'storyline': 767,\n",
              "  'surprised': 768,\n",
              "  'ways': 769,\n",
              "  'named': 770,\n",
              "  'using': 771,\n",
              "  \"haven't\": 772,\n",
              "  'lots': 773,\n",
              "  'easy': 774,\n",
              "  'fantastic': 775,\n",
              "  'begins': 776,\n",
              "  'actual': 777,\n",
              "  'working': 778,\n",
              "  'effort': 779,\n",
              "  'york': 780,\n",
              "  'die': 781,\n",
              "  'hate': 782,\n",
              "  'french': 783,\n",
              "  'tale': 784,\n",
              "  'minute': 785,\n",
              "  'stay': 786,\n",
              "  '9': 787,\n",
              "  'clear': 788,\n",
              "  'feature': 789,\n",
              "  'elements': 790,\n",
              "  'among': 791,\n",
              "  'follow': 792,\n",
              "  're': 793,\n",
              "  'comments': 794,\n",
              "  'viewers': 795,\n",
              "  'avoid': 796,\n",
              "  'sister': 797,\n",
              "  'typical': 798,\n",
              "  'showing': 799,\n",
              "  'editing': 800,\n",
              "  \"what's\": 801,\n",
              "  'famous': 802,\n",
              "  'tried': 803,\n",
              "  'sorry': 804,\n",
              "  'fall': 805,\n",
              "  'dialog': 806,\n",
              "  'check': 807,\n",
              "  'period': 808,\n",
              "  'form': 809,\n",
              "  'season': 810,\n",
              "  'certain': 811,\n",
              "  'filmed': 812,\n",
              "  'weak': 813,\n",
              "  'soundtrack': 814,\n",
              "  'means': 815,\n",
              "  'material': 816,\n",
              "  'buy': 817,\n",
              "  'somehow': 818,\n",
              "  'realistic': 819,\n",
              "  'figure': 820,\n",
              "  'crime': 821,\n",
              "  'gone': 822,\n",
              "  'doubt': 823,\n",
              "  'peter': 824,\n",
              "  'tom': 825,\n",
              "  'kept': 826,\n",
              "  'viewing': 827,\n",
              "  't': 828,\n",
              "  'general': 829,\n",
              "  'leads': 830,\n",
              "  'greatest': 831,\n",
              "  'space': 832,\n",
              "  'lame': 833,\n",
              "  'suspense': 834,\n",
              "  'dance': 835,\n",
              "  'brought': 836,\n",
              "  'imagine': 837,\n",
              "  'third': 838,\n",
              "  'atmosphere': 839,\n",
              "  'hear': 840,\n",
              "  'particular': 841,\n",
              "  'sequences': 842,\n",
              "  'whatever': 843,\n",
              "  'parents': 844,\n",
              "  'move': 845,\n",
              "  'lee': 846,\n",
              "  'indeed': 847,\n",
              "  'rent': 848,\n",
              "  'de': 849,\n",
              "  'eventually': 850,\n",
              "  'learn': 851,\n",
              "  'note': 852,\n",
              "  'wait': 853,\n",
              "  'deal': 854,\n",
              "  'forget': 855,\n",
              "  'reviews': 856,\n",
              "  'average': 857,\n",
              "  'japanese': 858,\n",
              "  'sexual': 859,\n",
              "  'poorly': 860,\n",
              "  'okay': 861,\n",
              "  'premise': 862,\n",
              "  'zombie': 863,\n",
              "  'surprise': 864,\n",
              "  'believable': 865,\n",
              "  'stage': 866,\n",
              "  'sit': 867,\n",
              "  'possibly': 868,\n",
              "  \"who's\": 869,\n",
              "  'decided': 870,\n",
              "  'expected': 871,\n",
              "  \"you've\": 872,\n",
              "  'subject': 873,\n",
              "  'nature': 874,\n",
              "  'became': 875,\n",
              "  'difficult': 876,\n",
              "  'free': 877,\n",
              "  'killing': 878,\n",
              "  'screenplay': 879,\n",
              "  'truth': 880,\n",
              "  'romance': 881,\n",
              "  'dr': 882,\n",
              "  'nor': 883,\n",
              "  'reading': 884,\n",
              "  'needed': 885,\n",
              "  'question': 886,\n",
              "  'leaves': 887,\n",
              "  'street': 888,\n",
              "  '20': 889,\n",
              "  'meets': 890,\n",
              "  'hot': 891,\n",
              "  'unless': 892,\n",
              "  'begin': 893,\n",
              "  'baby': 894,\n",
              "  'superb': 895,\n",
              "  'credits': 896,\n",
              "  'otherwise': 897,\n",
              "  'imdb': 898,\n",
              "  'write': 899,\n",
              "  'shame': 900,\n",
              "  \"let's\": 901,\n",
              "  'situation': 902,\n",
              "  'dramatic': 903,\n",
              "  'memorable': 904,\n",
              "  'directors': 905,\n",
              "  'earlier': 906,\n",
              "  'badly': 907,\n",
              "  'disney': 908,\n",
              "  'meet': 909,\n",
              "  'open': 910,\n",
              "  'dog': 911,\n",
              "  'male': 912,\n",
              "  'weird': 913,\n",
              "  'joe': 914,\n",
              "  'acted': 915,\n",
              "  'forced': 916,\n",
              "  'emotional': 917,\n",
              "  'sci': 918,\n",
              "  'laughs': 919,\n",
              "  'older': 920,\n",
              "  'realize': 921,\n",
              "  'fi': 922,\n",
              "  'dream': 923,\n",
              "  'society': 924,\n",
              "  'interested': 925,\n",
              "  'writers': 926,\n",
              "  'comment': 927,\n",
              "  'forward': 928,\n",
              "  'footage': 929,\n",
              "  'crazy': 930,\n",
              "  'deep': 931,\n",
              "  'whom': 932,\n",
              "  'sounds': 933,\n",
              "  'beauty': 934,\n",
              "  'america': 935,\n",
              "  'plus': 936,\n",
              "  'fantasy': 937,\n",
              "  'directing': 938,\n",
              "  'keeps': 939,\n",
              "  'development': 940,\n",
              "  'ask': 941,\n",
              "  'features': 942,\n",
              "  'air': 943,\n",
              "  'quickly': 944,\n",
              "  'mess': 945,\n",
              "  'creepy': 946,\n",
              "  'perfectly': 947,\n",
              "  'towards': 948,\n",
              "  'mark': 949,\n",
              "  'worked': 950,\n",
              "  'box': 951,\n",
              "  'cheesy': 952,\n",
              "  'unique': 953,\n",
              "  'setting': 954,\n",
              "  'hands': 955,\n",
              "  'plenty': 956,\n",
              "  'brings': 957,\n",
              "  'previous': 958,\n",
              "  'result': 959,\n",
              "  'e': 960,\n",
              "  'effect': 961,\n",
              "  'total': 962,\n",
              "  'personal': 963,\n",
              "  'incredibly': 964,\n",
              "  'rate': 965,\n",
              "  'fire': 966,\n",
              "  'monster': 967,\n",
              "  'business': 968,\n",
              "  'leading': 969,\n",
              "  'apart': 970,\n",
              "  'casting': 971,\n",
              "  'admit': 972,\n",
              "  'appear': 973,\n",
              "  'joke': 974,\n",
              "  'background': 975,\n",
              "  'powerful': 976,\n",
              "  'telling': 977,\n",
              "  'meant': 978,\n",
              "  'girlfriend': 979,\n",
              "  'christmas': 980,\n",
              "  'present': 981,\n",
              "  'hardly': 982,\n",
              "  'potential': 983,\n",
              "  'battle': 984,\n",
              "  'create': 985,\n",
              "  'bill': 986,\n",
              "  'break': 987,\n",
              "  'pay': 988,\n",
              "  'masterpiece': 989,\n",
              "  'dumb': 990,\n",
              "  'return': 991,\n",
              "  'political': 992,\n",
              "  'gay': 993,\n",
              "  'fails': 994,\n",
              "  'fighting': 995,\n",
              "  'various': 996,\n",
              "  'era': 997,\n",
              "  'portrayed': 998,\n",
              "  'secret': 999,\n",
              "  'cop': 1000,\n",
              "  ...},\n",
              " 88583)"
            ]
          },
          "metadata": {
            "tags": []
          },
          "execution_count": 63
        }
      ]
    },
    {
      "cell_type": "markdown",
      "metadata": {
        "id": "JgHVV5SCfTVI",
        "colab_type": "text"
      },
      "source": [
        "sequence and padding with training text data"
      ]
    },
    {
      "cell_type": "code",
      "metadata": {
        "id": "hPVyChHulNx5",
        "colab_type": "code",
        "colab": {}
      },
      "source": [
        "\n",
        "train_sequences = tokenize.texts_to_sequences(training_text)\n",
        "train_padded = pad_sequences(train_sequences, maxlen = max_len_sequences, truncating= \"post\" ) "
      ],
      "execution_count": 19,
      "outputs": []
    },
    {
      "cell_type": "code",
      "metadata": {
        "id": "NvrgP8UBoCaq",
        "colab_type": "code",
        "colab": {
          "base_uri": "https://localhost:8080/",
          "height": 34
        },
        "outputId": "bc882c5e-c296-4144-f337-84c0b1b1065e"
      },
      "source": [
        "train_padded.shape"
      ],
      "execution_count": 20,
      "outputs": [
        {
          "output_type": "execute_result",
          "data": {
            "text/plain": [
              "(25000, 13704)"
            ]
          },
          "metadata": {
            "tags": []
          },
          "execution_count": 20
        }
      ]
    },
    {
      "cell_type": "markdown",
      "metadata": {
        "id": "qOtAh_B1fjPm",
        "colab_type": "text"
      },
      "source": [
        "sequence and padding with testing text data"
      ]
    },
    {
      "cell_type": "code",
      "metadata": {
        "id": "mMvcjdjcoGJC",
        "colab_type": "code",
        "colab": {}
      },
      "source": [
        "# for testing\n",
        "test_sequence = tokenize.texts_to_sequences(testing_text)\n",
        "test_padded = pad_sequences(test_sequence, maxlen= max_len_sequences)"
      ],
      "execution_count": 21,
      "outputs": []
    },
    {
      "cell_type": "code",
      "metadata": {
        "id": "BXLCIkn_o0Z6",
        "colab_type": "code",
        "colab": {
          "base_uri": "https://localhost:8080/",
          "height": 34
        },
        "outputId": "32463707-e631-4a06-98c9-70fc67f3ec6b"
      },
      "source": [
        "test_padded.shape"
      ],
      "execution_count": 22,
      "outputs": [
        {
          "output_type": "execute_result",
          "data": {
            "text/plain": [
              "(25000, 13704)"
            ]
          },
          "metadata": {
            "tags": []
          },
          "execution_count": 22
        }
      ]
    },
    {
      "cell_type": "markdown",
      "metadata": {
        "id": "dZ-ENMNsfsGq",
        "colab_type": "text"
      },
      "source": [
        "#**4. Training the model**"
      ]
    },
    {
      "cell_type": "markdown",
      "metadata": {
        "id": "5A-38sOFf2_P",
        "colab_type": "text"
      },
      "source": [
        "#**Training our model**\n",
        "\n",
        "#**Define our model**\n",
        "\n",
        "- we are using bidirectional LSTM for our model [link for the Documentation](https://keras.io/api/layers/recurrent_layers/lstm)\n"
      ]
    },
    {
      "cell_type": "code",
      "metadata": {
        "id": "SnmMTNGPo3Zq",
        "colab_type": "code",
        "colab": {
          "base_uri": "https://localhost:8080/",
          "height": 289
        },
        "outputId": "4eb99808-c31e-4a2d-d437-364016096664"
      },
      "source": [
        "# model define\n",
        "\n",
        "model = keras.Sequential([\n",
        "      keras.layers.Embedding(vocab_size, 16, input_length= max_len_sequences),\n",
        "      keras.layers.Bidirectional(keras.layers.LSTM(32)),\n",
        "      keras.layers.Dense(64, activation= \"relu\"),\n",
        "      keras.layers.Dense(1, activation= \"sigmoid\")                          \n",
        "])\n",
        "\n",
        "model.compile(\n",
        "    optimizer = \"adam\",\n",
        "    loss = \"binary_crossentropy\",\n",
        "    metrics = [\"accuracy\"]\n",
        ")\n",
        "model.summary()"
      ],
      "execution_count": 64,
      "outputs": [
        {
          "output_type": "stream",
          "text": [
            "Model: \"sequential_1\"\n",
            "_________________________________________________________________\n",
            "Layer (type)                 Output Shape              Param #   \n",
            "=================================================================\n",
            "embedding_1 (Embedding)      (None, 13704, 16)         1094064   \n",
            "_________________________________________________________________\n",
            "bidirectional_1 (Bidirection (None, 64)                12544     \n",
            "_________________________________________________________________\n",
            "dense_2 (Dense)              (None, 64)                4160      \n",
            "_________________________________________________________________\n",
            "dense_3 (Dense)              (None, 1)                 65        \n",
            "=================================================================\n",
            "Total params: 1,110,833\n",
            "Trainable params: 1,110,833\n",
            "Non-trainable params: 0\n",
            "_________________________________________________________________\n"
          ],
          "name": "stdout"
        }
      ]
    },
    {
      "cell_type": "markdown",
      "metadata": {
        "id": "GKsnOX4Wgx7D",
        "colab_type": "text"
      },
      "source": [
        "run the below code to start training\n",
        "\n",
        "it will take 45 minutes to train so need to wait "
      ]
    },
    {
      "cell_type": "code",
      "metadata": {
        "id": "PWjcHuaxqXH_",
        "colab_type": "code",
        "colab": {
          "base_uri": "https://localhost:8080/",
          "height": 527
        },
        "outputId": "a1e517fd-7f50-4b31-9806-4e7dc6bef192"
      },
      "source": [
        "history = model.fit(train_padded, training_label, epochs = 15,batch_size = 128, validation_data=(test_padded, testing_label))"
      ],
      "execution_count": 24,
      "outputs": [
        {
          "output_type": "stream",
          "text": [
            "Epoch 1/15\n",
            "196/196 [==============================] - 631s 3s/step - loss: 0.4523 - accuracy: 0.7688 - val_loss: 0.2866 - val_accuracy: 0.8829\n",
            "Epoch 2/15\n",
            "196/196 [==============================] - 627s 3s/step - loss: 0.1874 - accuracy: 0.9304 - val_loss: 0.2994 - val_accuracy: 0.8746\n",
            "Epoch 3/15\n",
            "196/196 [==============================] - 628s 3s/step - loss: 0.0989 - accuracy: 0.9670 - val_loss: 0.3417 - val_accuracy: 0.8636\n",
            "Epoch 4/15\n",
            "196/196 [==============================] - 628s 3s/step - loss: 0.0575 - accuracy: 0.9823 - val_loss: 0.5756 - val_accuracy: 0.8589\n",
            "Epoch 5/15\n",
            "196/196 [==============================] - 627s 3s/step - loss: 0.0415 - accuracy: 0.9866 - val_loss: 0.5511 - val_accuracy: 0.8566\n",
            "Epoch 6/15\n",
            "196/196 [==============================] - 627s 3s/step - loss: 0.0206 - accuracy: 0.9949 - val_loss: 0.5979 - val_accuracy: 0.8557\n",
            "Epoch 7/15\n",
            "196/196 [==============================] - 628s 3s/step - loss: 0.0099 - accuracy: 0.9976 - val_loss: 0.8114 - val_accuracy: 0.8498\n",
            "Epoch 8/15\n",
            "196/196 [==============================] - 628s 3s/step - loss: 0.0098 - accuracy: 0.9972 - val_loss: 1.4074 - val_accuracy: 0.8106\n",
            "Epoch 9/15\n",
            "196/196 [==============================] - 628s 3s/step - loss: 0.0328 - accuracy: 0.9892 - val_loss: 0.7428 - val_accuracy: 0.8498\n",
            "Epoch 10/15\n",
            "196/196 [==============================] - 628s 3s/step - loss: 0.0104 - accuracy: 0.9969 - val_loss: 0.7870 - val_accuracy: 0.8490\n",
            "Epoch 11/15\n",
            "196/196 [==============================] - 634s 3s/step - loss: 0.0447 - accuracy: 0.9841 - val_loss: 0.6142 - val_accuracy: 0.8464\n",
            "Epoch 12/15\n",
            "196/196 [==============================] - 630s 3s/step - loss: 0.0152 - accuracy: 0.9954 - val_loss: 0.7455 - val_accuracy: 0.8452\n",
            "Epoch 13/15\n",
            "196/196 [==============================] - 628s 3s/step - loss: 0.0114 - accuracy: 0.9961 - val_loss: 0.9156 - val_accuracy: 0.8454\n",
            "Epoch 14/15\n",
            "196/196 [==============================] - 628s 3s/step - loss: 0.0123 - accuracy: 0.9960 - val_loss: 0.9000 - val_accuracy: 0.8453\n",
            "Epoch 15/15\n",
            "196/196 [==============================] - 628s 3s/step - loss: 0.0159 - accuracy: 0.9949 - val_loss: 0.8751 - val_accuracy: 0.8427\n"
          ],
          "name": "stdout"
        }
      ]
    },
    {
      "cell_type": "markdown",
      "metadata": {
        "id": "9sU66GSFhHgy",
        "colab_type": "text"
      },
      "source": [
        "After the training as completed save the model by running the below code\n",
        "\n",
        "- if you need to download the model it will be available in the folder section"
      ]
    },
    {
      "cell_type": "code",
      "metadata": {
        "id": "fqjqOHcyq0E4",
        "colab_type": "code",
        "colab": {}
      },
      "source": [
        "model.save(\"imdb_reviews.h5\")"
      ],
      "execution_count": 25,
      "outputs": []
    },
    {
      "cell_type": "code",
      "metadata": {
        "id": "3Yn4C5j7RzX4",
        "colab_type": "code",
        "colab": {}
      },
      "source": [
        "model_path = \"/content/imdb_reviews.h5\""
      ],
      "execution_count": 26,
      "outputs": []
    },
    {
      "cell_type": "markdown",
      "metadata": {
        "id": "Ha8ffQ5phuNa",
        "colab_type": "text"
      },
      "source": [
        "#**Loading the model**\n",
        "\n",
        "- we're using the saved model for loading and make prediction"
      ]
    },
    {
      "cell_type": "code",
      "metadata": {
        "id": "jJeh314zSaPJ",
        "colab_type": "code",
        "colab": {}
      },
      "source": [
        "from keras.models import load_model\n",
        "\n",
        "model1 = load_model(model_path)"
      ],
      "execution_count": 65,
      "outputs": []
    },
    {
      "cell_type": "code",
      "metadata": {
        "id": "JBJADBj4SuAc",
        "colab_type": "code",
        "colab": {
          "base_uri": "https://localhost:8080/",
          "height": 289
        },
        "outputId": "cda3444f-edc3-47b5-de7a-6ee469ef7c1d"
      },
      "source": [
        "model1.summary()"
      ],
      "execution_count": 66,
      "outputs": [
        {
          "output_type": "stream",
          "text": [
            "Model: \"sequential\"\n",
            "_________________________________________________________________\n",
            "Layer (type)                 Output Shape              Param #   \n",
            "=================================================================\n",
            "embedding (Embedding)        (None, 13704, 16)         1094064   \n",
            "_________________________________________________________________\n",
            "bidirectional (Bidirectional (None, 64)                12544     \n",
            "_________________________________________________________________\n",
            "dense (Dense)                (None, 64)                4160      \n",
            "_________________________________________________________________\n",
            "dense_1 (Dense)              (None, 1)                 65        \n",
            "=================================================================\n",
            "Total params: 1,110,833\n",
            "Trainable params: 1,110,833\n",
            "Non-trainable params: 0\n",
            "_________________________________________________________________\n"
          ],
          "name": "stdout"
        }
      ]
    },
    {
      "cell_type": "markdown",
      "metadata": {
        "id": "p4sNpNW3iEHE",
        "colab_type": "text"
      },
      "source": [
        "#**Prediction with sample text**"
      ]
    },
    {
      "cell_type": "code",
      "metadata": {
        "id": "kUgi6haET0rA",
        "colab_type": "code",
        "colab": {}
      },
      "source": [
        "def prediction(model1,text):\n",
        "  sequences = tokenize.texts_to_sequences([text])\n",
        "  padded = pad_sequences(sequences, maxlen = max_len_sequences, truncating = \"post\")\n",
        "  reviews = model1.predict(padded)\n",
        "\n",
        "  if reviews[0]>0.5:\n",
        "    print(\"it is a positive percent : \",str(reviews[0][0]*100)[:3])\n",
        "  else:\n",
        "    print(\"it is a negative percent : \",str(reviews[0][0]*100)[:3])\n",
        "  \n",
        "  \n",
        "\n",
        "\n"
      ],
      "execution_count": 57,
      "outputs": []
    },
    {
      "cell_type": "markdown",
      "metadata": {
        "id": "hXmnvNueiaCC",
        "colab_type": "text"
      },
      "source": [
        "calling the function with the example texts"
      ]
    },
    {
      "cell_type": "code",
      "metadata": {
        "id": "_i04hbsVUZi1",
        "colab_type": "code",
        "colab": {
          "base_uri": "https://localhost:8080/",
          "height": 34
        },
        "outputId": "450015bc-be9f-40ce-9bf5-16511ecedcb2"
      },
      "source": [
        "text = \"when the man saved the women and she were alive because of him. i am not liking this movie very boring\"\n",
        "prediction(model1, text)"
      ],
      "execution_count": 58,
      "outputs": [
        {
          "output_type": "stream",
          "text": [
            "it is a negative percent :  0.4\n"
          ],
          "name": "stdout"
        }
      ]
    },
    {
      "cell_type": "code",
      "metadata": {
        "id": "EvZmYyZTUdWC",
        "colab_type": "code",
        "colab": {
          "base_uri": "https://localhost:8080/",
          "height": 34
        },
        "outputId": "e8b5dfbd-cc18-46b6-c62a-46337c6208a9"
      },
      "source": [
        "text = \"again batman saved the world\"\n",
        "prediction(model1, text)"
      ],
      "execution_count": 59,
      "outputs": [
        {
          "output_type": "stream",
          "text": [
            "it is a positive percent :  86.\n"
          ],
          "name": "stdout"
        }
      ]
    },
    {
      "cell_type": "code",
      "metadata": {
        "id": "HaOWGj9zXyjh",
        "colab_type": "code",
        "colab": {
          "base_uri": "https://localhost:8080/",
          "height": 34
        },
        "outputId": "d0ce8901-4a0c-422c-9e93-e50517af78f0"
      },
      "source": [
        "text = \"this movie is inappropiate for children it's kind of scary even for adults\"\n",
        "prediction(model1, text)"
      ],
      "execution_count": 60,
      "outputs": [
        {
          "output_type": "stream",
          "text": [
            "it is a negative percent :  5.2\n"
          ],
          "name": "stdout"
        }
      ]
    },
    {
      "cell_type": "markdown",
      "metadata": {
        "id": "NpILWTctius4",
        "colab_type": "text"
      },
      "source": [
        "#**well, it was a fun and thanks for watching this.....**\n",
        "\n",
        "- trained model will be available in github \n",
        "\n",
        "- soon i can attach the notebook for loading the trained model without retraining"
      ]
    },
    {
      "cell_type": "code",
      "metadata": {
        "id": "2w8ygbNHYVYO",
        "colab_type": "code",
        "colab": {}
      },
      "source": [
        ""
      ],
      "execution_count": null,
      "outputs": []
    }
  ]
}